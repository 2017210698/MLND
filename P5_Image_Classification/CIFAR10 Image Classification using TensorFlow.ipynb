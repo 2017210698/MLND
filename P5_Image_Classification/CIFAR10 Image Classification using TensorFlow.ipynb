{
 "cells": [
  {
   "cell_type": "markdown",
   "metadata": {
    "collapsed": true
   },
   "source": [
    "# CIFAR10 Project"
   ]
  },
  {
   "cell_type": "code",
   "execution_count": 1,
   "metadata": {
    "collapsed": false
   },
   "outputs": [],
   "source": [
    "import numpy as np\n",
    "import matplotlib.pyplot as plt\n",
    "import pickle\n",
    "import tensorflow as tf\n",
    "from tqdm import tqdm\n",
    "import sys\n",
    "import os\n",
    "import cv2\n",
    "from time import time"
   ]
  },
  {
   "cell_type": "markdown",
   "metadata": {},
   "source": [
    "# 第一章 CIFAR10 上手"
   ]
  },
  {
   "cell_type": "markdown",
   "metadata": {},
   "source": [
    "## 1. CIFAR10 数据集概述\n",
    "\n",
    "- 总计 60000 张图片。其中 50000 张用于训练，10000 张用于测试。\n",
    "- 所有图片的尺寸统一为 32 x 32 x 3\n",
    "- 图片的内容标签分为 10 类，每张图片的标签唯一。\n",
    "- 每一类图片的个数都是 6000 张。 "
   ]
  },
  {
   "cell_type": "markdown",
   "metadata": {},
   "source": [
    "## 2. CIFAR10 数据集分析\n",
    "\n",
    "- 图片尺寸全部统一，因此无需对图片尺寸进行 resize。\n",
    "- 每一个标签的数据量相等，因此整个数据集是平衡的（Balanced），不存在非平衡数据集的训练问题。\n",
    "- 数据集很庞大，有六万张照片，不存在小数据集训练的过拟合问题。"
   ]
  },
  {
   "cell_type": "markdown",
   "metadata": {},
   "source": [
    "## 3. CIFAR10 数据集格式\n",
    "\n",
    "- 压缩包里含有 6 个 Pickle 文件，其中 5 个 `data_batch` 是训练集，单独一个 `test_batch` 是测试集。\n",
    "- 用 `pickle.load()` 将所有文件中的数据都读入内存\n",
    "\n",
    "\n",
    "- 每个 Pickle 文件都含有 10000 张图片及其展示的内容标签。Pickle 文件所包含的对象是一个词典，该词典有如下4个键：\n",
    "    - data：图像像素数据，np.array 类型\n",
    "    - labels：图像内容标签，list 类型\n",
    "    - filenames：原始图像的文件名（目前用不上）\n",
    "    - batch_label：数据所属的训练集编号（没什么用）\n",
    "    \n",
    "    \n",
    "- data 是一个尺寸为 (10000, 3072) 的 Numpy 数组\n",
    "    - 每一行是一张图片的所有像素，长度为3072\n",
    "    - 每张图片的尺寸是32x32=1024，其三个颜色通道串联接在一起，即 1024,1024,1024\n",
    "    - 需要将每张尺寸为 (1, 3072) 的图片还原为正常的图像尺寸 (32, 32, 3)\n",
    "    - 由于考虑到目前第一维只能是颜色通道，因此应该先将其 reshape(3, 32, 32), 再用 transpose 把颜色通道交换至最后一个维度。\n",
    "    \n",
    "\n",
    "- labels 是一个长度为 10000 的 list，表示图像的实际内容类别，取值为 [0, 9]，其涵义如下：\n",
    "    - 0 = airplane\t\t\t\t\t\t\t\t\t\t\n",
    "    - 1 = automobile\t\t\t\t\t\t\t\t\t\t\n",
    "    - 2 = bird\t\t\t\t\t\t\t\t\t\t\n",
    "    - 3 = cat\t\t\t\t\t\t\t\t\t\t\n",
    "    - 4 = deer\t\t\t\t\t\t\t\t\t\t\n",
    "    - 5 = dog\t\t\t\t\t\t\t\t\t\t\n",
    "    - 6 = frog\t\t\t\t\t\t\t\t\t\t\n",
    "    - 7 = horse\t\t\t\t\t\t\t\t\t\t\n",
    "    - 8 = ship\t\t\t\t\t\t\t\t\t\t\n",
    "    - 9 = truck"
   ]
  },
  {
   "cell_type": "code",
   "execution_count": 63,
   "metadata": {
    "collapsed": true
   },
   "outputs": [],
   "source": [
    "path = 'cifar-10-batches-py//'\n",
    "p = pickle.load(open(path + 'data_batch_1', 'rb'), encoding='bytes')"
   ]
  },
  {
   "cell_type": "code",
   "execution_count": 64,
   "metadata": {
    "collapsed": false
   },
   "outputs": [
    {
     "data": {
      "text/plain": [
       "dict_keys([b'data', b'labels', b'filenames', b'batch_label'])"
      ]
     },
     "execution_count": 64,
     "metadata": {},
     "output_type": "execute_result"
    }
   ],
   "source": [
    "p.keys()"
   ]
  },
  {
   "cell_type": "code",
   "execution_count": 65,
   "metadata": {
    "collapsed": false
   },
   "outputs": [
    {
     "data": {
      "text/plain": [
       "(numpy.ndarray, list)"
      ]
     },
     "execution_count": 65,
     "metadata": {},
     "output_type": "execute_result"
    }
   ],
   "source": [
    "data = p[b'data']\n",
    "labels = p[b'labels']\n",
    "type(data), type(labels)"
   ]
  },
  {
   "cell_type": "code",
   "execution_count": 66,
   "metadata": {
    "collapsed": false
   },
   "outputs": [
    {
     "data": {
      "text/plain": [
       "((10000, 3072), 10000)"
      ]
     },
     "execution_count": 66,
     "metadata": {},
     "output_type": "execute_result"
    }
   ],
   "source": [
    "data.shape, len(lables)"
   ]
  },
  {
   "cell_type": "code",
   "execution_count": 80,
   "metadata": {
    "collapsed": false
   },
   "outputs": [
    {
     "data": {
      "image/png": "[encoded data removed]",
      "text/plain": [
       "<matplotlib.figure.Figure at 0x2baed5de7b8>"
      ]
     },
     "metadata": {},
     "output_type": "display_data"
    },
    {
     "data": {
      "text/plain": [
       "(32, 32, 3)"
      ]
     },
     "execution_count": 80,
     "metadata": {},
     "output_type": "execute_result"
    }
   ],
   "source": [
    "# 看第一张图片的样子\n",
    "pic = np.random.choice(range(10000))\n",
    "img = data[pic].reshape(3, 32, 32)    # 先以颜色通道为大，分离出三个颜色通道\n",
    "img = np.transpose(img, (1, 2, 0))    # 然后将颜色通道维度从原来的第0维换至最后一维\n",
    "plt.imshow(img, cmap='gray')\n",
    "plt.show()\n",
    "img.shape"
   ]
  },
  {
   "cell_type": "markdown",
   "metadata": {},
   "source": [
    "## 4. CIFAR10 数据集预处理\n",
    "\n",
    "- 合并全部 50000 张训练图片及其标签\n",
    "- 将像素灰度值归一化\n",
    "- 将标签进行 One-Hot 编码，以供后期使用 Softmax 进行预测\n",
    "- 导出经过预处理后的训练数据为 Pickle 文件，方便以后直接调用"
   ]
  },
  {
   "cell_type": "markdown",
   "metadata": {},
   "source": [
    "### 4.1 合并全部 50000 张训练图片及其标签"
   ]
  },
  {
   "cell_type": "code",
   "execution_count": 115,
   "metadata": {
    "collapsed": false
   },
   "outputs": [],
   "source": [
    "# 先申请一块完整的内存，然后再用循环慢慢将这块内存填满，这样比不断追加的方案内存效率高得多\n",
    "X = np.zeros((50000, 32, 32, 3), dtype=np.uint8)\n",
    "Y = []\n",
    "path = 'cifar-10-batches-py//'\n",
    "\n",
    "for i in range(1, 6):\n",
    "    p = pickle.load(open(path + 'data_batch_' + str(i), 'rb'), encoding='bytes')\n",
    "    data = p[b'data']\n",
    "    labels = p[b'labels']\n",
    "    data = data.reshape(10000, 3, 32, 32)\n",
    "    data = np.transpose(data, (0, 2, 3, 1))\n",
    "    \n",
    "    # Append data\n",
    "    X[(i - 1) * 10000 : i * 10000] = data\n",
    "    \n",
    "    # Concat labels\n",
    "    Y += labels"
   ]
  },
  {
   "cell_type": "code",
   "execution_count": 116,
   "metadata": {
    "collapsed": false
   },
   "outputs": [
    {
     "data": {
      "text/plain": [
       "((50000, 32, 32, 3), 50000)"
      ]
     },
     "execution_count": 116,
     "metadata": {},
     "output_type": "execute_result"
    }
   ],
   "source": [
    "X.shape, len(Y)"
   ]
  },
  {
   "cell_type": "code",
   "execution_count": 155,
   "metadata": {
    "collapsed": false
   },
   "outputs": [
    {
     "data": {
      "image/png": "[encoded data removed]",
      "text/plain": [
       "<matplotlib.figure.Figure at 0x2baed474be0>"
      ]
     },
     "metadata": {},
     "output_type": "display_data"
    }
   ],
   "source": [
    "# Check a random img and it's label\n",
    "mapping = {0:'airplane', \n",
    "           1:'automobile', \n",
    "           2:'bird', \n",
    "           3:'cat', \n",
    "           4:'deer', \n",
    "           5:'dog', \n",
    "           6:'frog', \n",
    "           7:'horse', \n",
    "           8:'ship', \n",
    "           9:'truck'}\n",
    "rid = np.random.choice(range(50000))\n",
    "img = X_norm[rid]\n",
    "l = Y[rid]\n",
    "plt.imshow(img, cmap='gray')\n",
    "plt.title(mapping[l])\n",
    "plt.show()"
   ]
  },
  {
   "cell_type": "markdown",
   "metadata": {},
   "source": [
    "### 4.2 对像素灰度值进行归一化"
   ]
  },
  {
   "cell_type": "code",
   "execution_count": 183,
   "metadata": {
    "collapsed": true
   },
   "outputs": [],
   "source": [
    "X_norm = (X - np.min(X)) / (np.max(X) - np.min(X))\n",
    "X_norm = X_norm.astype(np.float32)"
   ]
  },
  {
   "cell_type": "code",
   "execution_count": 184,
   "metadata": {
    "collapsed": false
   },
   "outputs": [
    {
     "data": {
      "text/plain": [
       "array([[ 59,  43,  50,  68,  98],\n",
       "       [ 16,   0,  18,  51,  88],\n",
       "       [ 25,  16,  49,  83, 110],\n",
       "       [ 33,  38,  87, 106, 115],\n",
       "       [ 50,  59, 102, 127, 124]], dtype=uint8)"
      ]
     },
     "execution_count": 184,
     "metadata": {},
     "output_type": "execute_result"
    }
   ],
   "source": [
    "# 对比归一化后同一张图片相同区域像素点的取值变化\n",
    "X[0, :5, :5, 0]"
   ]
  },
  {
   "cell_type": "code",
   "execution_count": 192,
   "metadata": {
    "collapsed": false
   },
   "outputs": [
    {
     "data": {
      "text/plain": [
       "array([[ 0.23137255,  0.16862746,  0.19607843,  0.26666668,  0.38431373],\n",
       "       [ 0.0627451 ,  0.        ,  0.07058824,  0.2       ,  0.34509805],\n",
       "       [ 0.09803922,  0.0627451 ,  0.19215687,  0.32549021,  0.43137255],\n",
       "       [ 0.12941177,  0.14901961,  0.34117648,  0.41568628,  0.4509804 ],\n",
       "       [ 0.19607843,  0.23137255,  0.40000001,  0.49803922,  0.48627451]], dtype=float32)"
      ]
     },
     "execution_count": 192,
     "metadata": {},
     "output_type": "execute_result"
    }
   ],
   "source": [
    "X_norm[0, :5, :5, 0]"
   ]
  },
  {
   "cell_type": "code",
   "execution_count": 193,
   "metadata": {
    "collapsed": false
   },
   "outputs": [
    {
     "data": {
      "text/plain": [
       "(146.48451232910156, 585.9376373291016)"
      ]
     },
     "execution_count": 193,
     "metadata": {},
     "output_type": "execute_result"
    }
   ],
   "source": [
    "# 由于元素类型从 uint8 变成 float32，因此占用空间增大很多\n",
    "sys.getsizeof(X)/1024/1024, sys.getsizeof(X_norm)/1024/1024"
   ]
  },
  {
   "cell_type": "markdown",
   "metadata": {},
   "source": [
    "### 4.3 对标签进行 One-Hot 编码"
   ]
  },
  {
   "cell_type": "code",
   "execution_count": 166,
   "metadata": {
    "collapsed": true
   },
   "outputs": [],
   "source": [
    "from sklearn.preprocessing import LabelBinarizer\n",
    "lb = LabelBinarizer()\n",
    "# 按照数字顺序进行映射，如果直接 fit_transform 的话映射顺序取决于样本中类型的出现顺序\n",
    "lb.fit(range(10)) \n",
    "Y_onehot = lb.transform(Y)"
   ]
  },
  {
   "cell_type": "code",
   "execution_count": 172,
   "metadata": {
    "collapsed": false
   },
   "outputs": [
    {
     "data": {
      "text/plain": [
       "(numpy.ndarray, (50000, 10), 6, array([0, 0, 0, 0, 0, 0, 1, 0, 0, 0]))"
      ]
     },
     "execution_count": 172,
     "metadata": {},
     "output_type": "execute_result"
    }
   ],
   "source": [
    "type(Y_onehot), Y_onehot.shape, Y[0], Y_onehot[0]"
   ]
  },
  {
   "cell_type": "markdown",
   "metadata": {},
   "source": [
    "### 4.4 导出预处理后的训练数据\n",
    "\n",
    "- 将训练数据输出为含有 4 个元素的 Tuple\n",
    "    - 前两个是训练集图像及其标签，含有 45000 张图片\n",
    "    - 后两个是验证集图像及其标签，含有 5000  张图片"
   ]
  },
  {
   "cell_type": "code",
   "execution_count": 194,
   "metadata": {
    "collapsed": true
   },
   "outputs": [],
   "source": [
    "pickle.dump((X_norm[:45000], Y_onehot[:45000], \n",
    "             X_norm[45000:], Y_onehot[45000:],), \n",
    "            open('CIFAR10 Preprocessed', 'wb'))"
   ]
  },
  {
   "cell_type": "markdown",
   "metadata": {},
   "source": [
    "# 第二章 CIFAR10 模型训练"
   ]
  },
  {
   "cell_type": "markdown",
   "metadata": {},
   "source": [
    "## 1. 载入预处理后的训练数据"
   ]
  },
  {
   "cell_type": "code",
   "execution_count": 2,
   "metadata": {
    "collapsed": false
   },
   "outputs": [
    {
     "name": "stdout",
     "output_type": "stream",
     "text": [
      "X_train Dimension:  (45000, 32, 32, 3)\n",
      "Y_train Dimension (45000, 10)\n",
      "X_test Dimension:  (5000, 32, 32, 3)\n",
      "Y_test Dimension (5000, 10)\n"
     ]
    }
   ],
   "source": [
    "X_train, Y_train, X_test, Y_test = pickle.load(open('CIFAR10 Preprocessed', mode='rb'))\n",
    "print(\"X_train Dimension: \", X_train.shape)\n",
    "print(\"Y_train Dimension\", Y_train.shape)\n",
    "print(\"X_test Dimension: \", X_test.shape)\n",
    "print(\"Y_test Dimension\", Y_test.shape)"
   ]
  },
  {
   "cell_type": "markdown",
   "metadata": {},
   "source": [
    "## 2. 计算卷积层的输出尺寸\n",
    "\n",
    "- 卷积层输出的矩阵尺寸由三个因素决定：\n",
    "    - 输入矩阵尺寸\n",
    "    - 卷积核尺寸\n",
    "    - 步长\n",
    "    \n",
    "\n",
    "- 计算公式为\n",
    "\n",
    "$$\\mathrm{output = (input - kernel + 2 * padding) ~ / ~ stride + 1}$$\n",
    "\n",
    "下面用指针的思路写了一个推测输出形状的函数，比计算公式好理解。"
   ]
  },
  {
   "cell_type": "code",
   "execution_count": 10,
   "metadata": {
    "collapsed": false
   },
   "outputs": [
    {
     "name": "stdout",
     "output_type": "stream",
     "text": [
      "Input Shape =  (32, 32, 3)\n",
      "Output Shape =  (15, 15, 64)\n"
     ]
    }
   ],
   "source": [
    "# 假设输入图片和卷积核的形状都是正方形\n",
    "def get_output_shape(input_shape, kernel_shape, stride):\n",
    "    j = kernel_shape - 1\n",
    "    c = 0\n",
    "    while j < input_shape:\n",
    "        c += 1\n",
    "        j += stride\n",
    "    return c\n",
    "\n",
    "# 假设图片尺寸为 32 x 32 x 3，卷积核尺寸为 3 x 3 x 3，步长为 2，卷积核个数 64\n",
    "n_kernel = 64\n",
    "input_shape = 32\n",
    "output_shape = get_output_shape(32, 3, 2)\n",
    "print('Input Shape = ', (input_shape, input_shape, 3))\n",
    "print('Output Shape = ', (output_shape, output_shape, n_kernel))"
   ]
  },
  {
   "cell_type": "markdown",
   "metadata": {},
   "source": [
    "## 3. 构造模型"
   ]
  },
  {
   "cell_type": "markdown",
   "metadata": {},
   "source": [
    "- 模型由以下几层组合而成\n",
    "    - **卷积层**：用卷积核与每个图像进行卷积计算，输出特征图（Feature map），图像的深度得到扩展。\n",
    "    - **池化层**：挑选取值最大的像素点作为代表，主要意义是降维（降低图像尺寸）\n",
    "    - **展开层**：将三维的图像数据拉直为一维向量，向量的每个元素被视为一个特征，方便送入全连接层。\n",
    "    - **全连接层**：特征的非线性分类器，与 MLP 中的全链接层功能一样。"
   ]
  },
  {
   "cell_type": "markdown",
   "metadata": {},
   "source": [
    "### tf.layers.conv2d\n",
    "> tf.layers.conv2d(inputs, filters, kernel_size, strides=(1, 1), padding='valid', data_format='channels_last', dilation_rate=(1, 1), activation=None, use_bias=True, kernel_initializer=None, bias_initializer=?, kernel_regularizer=None, bias_regularizer=None, activity_regularizer=None, trainable=True, name=None, reuse=None)\n",
    "\n",
    "### tf.nn.conv2d\n",
    "\n",
    "> tf.nn.conv2d(input, filter, strides, padding, use_cudnn_on_gpu=None, data_format=None, name=None)\n",
    "\n",
    "conv2d 是一个 operation，要求输入的 input 和 filter 本身都是 Tensor 类型的对象，因此需要先用 `tf.Variable` 定义这两个对象，并且对权重矩阵这个 Tensor 进行初始化才能调用 conv2d 函数。\n"
   ]
  },
  {
   "cell_type": "code",
   "execution_count": 10,
   "metadata": {
    "collapsed": true
   },
   "outputs": [],
   "source": [
    "def conv_layer(x, out_channel, k_size, stride, padding):\n",
    "    in_channel = x.shape[3].value\n",
    "    w = tf.Variable(tf.truncated_normal([k_size, k_size, in_channel, out_channel], mean=0, stddev=stddev))\n",
    "    b = tf.Variable(tf.zeros(out_channel))\n",
    "    x = tf.nn.conv2d(x, filter=w, strides=[1, stride, stride, 1], padding=padding)\n",
    "    x = tf.nn.bias_add(x, b)\n",
    "    x = tf.nn.relu(x)\n",
    "    return x\n",
    "\n",
    "\n",
    "def pool_layer(x, k_size, stride, padding):\n",
    "    return tf.nn.max_pool(x, ksize=[1, k_size, k_size, 1], strides=[1, stride, stride, 1], padding=padding)\n",
    "\n",
    "\n",
    "def flatten_layer(x):\n",
    "    dim = x.shape[1].value * x.shape[2].value * x.shape[3].value\n",
    "    return tf.reshape(x, shape=[-1, dim])\n",
    "\n",
    "\n",
    "def fc_layer(x, n_output):\n",
    "    w = tf.Variable(tf.truncated_normal([x.shape[1].value, n_output], mean=0, stddev=stddev))\n",
    "    b = tf.Variable(tf.zeros(n_output))\n",
    "    x = tf.matmul(x, w)\n",
    "    x = tf.add(x, b)\n",
    "    x = tf.nn.relu(x)\n",
    "    return x\n",
    "\n",
    "\n",
    "def dropout_layer(x, keep_prob):\n",
    "    return tf.nn.dropout(x, keep_prob)\n",
    "\n",
    "\n",
    "def output_layer(x, n_output):\n",
    "    w = tf.Variable(tf.truncated_normal([x.shape[1].value, n_output], mean=0, stddev=stddev))\n",
    "    b = tf.Variable(tf.zeros(n_output))\n",
    "    x = tf.matmul(x, w)\n",
    "    x = tf.add(x, b)\n",
    "    x = tf.identity(x, name='logits')  # Rename\n",
    "    return x"
   ]
  },
  {
   "cell_type": "code",
   "execution_count": 3,
   "metadata": {
    "collapsed": false
   },
   "outputs": [],
   "source": [
    "def create_model(x, keep_prob):\n",
    "#     x = conv_layer(x, 16, 3, 1, 'SAME')\n",
    "#     x = pool_layer(x, 2, 1, 'SAME')\n",
    "#     x = conv_layer(x, 32, 3, 1, 'SAME')\n",
    "#     x = pool_layer(x, 2, 1, 'SAME')\n",
    "#     x = flatten_layer(x)\n",
    "#     x = fc_layer(x, 1024)\n",
    "#     x = dropout_layer(x, keep_prob)\n",
    "#     x = output_layer(x, 10)\n",
    "\n",
    "    x = tf.contrib.layers.conv2d(x, 16, 3, 1, 'SAME', weights_regularizer=tf.contrib.layers.l2_regularizer(0.1))\n",
    "    x = tf.contrib.layers.batch_norm(x)\n",
    "    x = tf.nn.max_pool(x, [1, 2, 2, 1], [1, 1, 1, 1], 'SAME')\n",
    "    x = tf.contrib.layers.conv2d(x, 16, 3, 1, 'SAME', weights_regularizer=tf.contrib.layers.l2_regularizer(0.1))\n",
    "    x = tf.contrib.layers.batch_norm(x)\n",
    "    x = tf.nn.max_pool(x, [1, 2, 2, 1], [1, 1, 1, 1], 'SAME')\n",
    "    x = tf.contrib.layers.conv2d(x, 16, 3, 1, 'SAME', weights_regularizer=tf.contrib.layers.l2_regularizer(0.1))\n",
    "    x = tf.contrib.layers.batch_norm(x)\n",
    "    x = tf.nn.max_pool(x, [1, 2, 2, 1], [1, 1, 1, 1], 'SAME')\n",
    "    x = tf.contrib.layers.flatten(x)\n",
    "    x = tf.contrib.layers.fully_connected(x, 1024, activation_fn=tf.nn.relu)\n",
    "    x = tf.nn.dropout(x, keep_prob)\n",
    "    x = tf.contrib.layers.fully_connected(x, 10, activation_fn=None)\n",
    "    \n",
    "    return x"
   ]
  },
  {
   "cell_type": "markdown",
   "metadata": {},
   "source": [
    "## 4. 训练模型"
   ]
  },
  {
   "cell_type": "markdown",
   "metadata": {},
   "source": [
    "### 4.1 建立计算图"
   ]
  },
  {
   "cell_type": "code",
   "execution_count": 8,
   "metadata": {
    "collapsed": false,
    "scrolled": false
   },
   "outputs": [],
   "source": [
    "n_class = 10\n",
    "batch_size = 256\n",
    "stddev = 0.01\n",
    "epoch = 100\n",
    "dropout = 0.25\n",
    "\n",
    "tf.reset_default_graph()\n",
    "x_input   = tf.placeholder(tf.float32, shape=(None, 32, 32, 3), name='x_input')\n",
    "y_true    = tf.placeholder(tf.float32, shape=(None, n_class), name='y_true')\n",
    "keep_prob = tf.placeholder(tf.float32, name='keep_prob')\n",
    "\n",
    "y_pred = create_model(x_input, keep_prob)\n",
    "cost = tf.reduce_mean(tf.nn.softmax_cross_entropy_with_logits(logits=y_pred, labels=y_true))\n",
    "optimizer = tf.train.AdamOptimizer().minimize(cost)\n",
    "correct_pred = tf.equal(tf.argmax(y_pred, 1), tf.argmax(y_true, 1))    \n",
    "accuracy = tf.reduce_mean(tf.cast(correct_pred, tf.float32), name='accuracy')"
   ]
  },
  {
   "cell_type": "markdown",
   "metadata": {},
   "source": [
    "### 4.2 数据生成器"
   ]
  },
  {
   "cell_type": "code",
   "execution_count": 5,
   "metadata": {
    "collapsed": true
   },
   "outputs": [],
   "source": [
    "def get_batch(x, y, batch_size):\n",
    "    for start in range(0, len(x), batch_size):\n",
    "        end = min(start + batch_size, len(x))\n",
    "        yield x[start:end], y[start:end]"
   ]
  },
  {
   "cell_type": "markdown",
   "metadata": {},
   "source": [
    "### 4.3 用 Session 执行运算图"
   ]
  },
  {
   "cell_type": "code",
   "execution_count": 9,
   "metadata": {
    "collapsed": false
   },
   "outputs": [
    {
     "name": "stdout",
     "output_type": "stream",
     "text": [
      "Epoch = 0     train_loss = 1.46009      train_acc = 43.5 %      validation_acc = 47.04 %\n",
      "Epoch = 1     train_loss = 1.3301      train_acc = 55.5 %      validation_acc = 54.08 %\n",
      "Epoch = 2     train_loss = 1.22888      train_acc = 50.5 %      validation_acc = 56.94 %\n",
      "Epoch = 3     train_loss = 1.1822      train_acc = 53.5 %      validation_acc = 59.76 %\n",
      "Epoch = 4     train_loss = 1.1254      train_acc = 61.5 %      validation_acc = 61.02 %\n",
      "Epoch = 5     train_loss = 1.08046      train_acc = 61.5 %      validation_acc = 62.14 %\n",
      "Epoch = 6     train_loss = 1.08316      train_acc = 62.5 %      validation_acc = 62.94 %\n",
      "Epoch = 7     train_loss = 1.00017      train_acc = 63.5 %      validation_acc = 64.54 %\n",
      "Epoch = 8     train_loss = 0.97191      train_acc = 65.0 %      validation_acc = 65.84 %\n",
      "Epoch = 9     train_loss = 0.917604      train_acc = 67.5 %      validation_acc = 65.98 %\n",
      "Epoch = 10     train_loss = 0.880607      train_acc = 69.0 %      validation_acc = 66.5 %\n",
      "Epoch = 11     train_loss = 0.810764      train_acc = 68.5 %      validation_acc = 67.04 %\n",
      "Epoch = 12     train_loss = 0.76811      train_acc = 71.5 %      validation_acc = 67.28 %\n",
      "Epoch = 13     train_loss = 0.767998      train_acc = 72.0 %      validation_acc = 68.26 %\n",
      "Epoch = 14     train_loss = 0.761557      train_acc = 72.0 %      validation_acc = 67.54 %\n",
      "Epoch = 15     train_loss = 0.725352      train_acc = 74.5 %      validation_acc = 67.88 %\n",
      "Epoch = 16     train_loss = 0.671638      train_acc = 77.5 %      validation_acc = 67.94 %\n",
      "Epoch = 17     train_loss = 0.655912      train_acc = 78.5 %      validation_acc = 68.38 %\n",
      "Epoch = 18     train_loss = 0.635038      train_acc = 76.5 %      validation_acc = 68.82 %\n",
      "Epoch = 19     train_loss = 0.635711      train_acc = 77.0 %      validation_acc = 68.56 %\n",
      "Epoch = 20     train_loss = 0.621933      train_acc = 78.5 %      validation_acc = 69.1 %\n",
      "Epoch = 21     train_loss = 0.636581      train_acc = 79.0 %      validation_acc = 69.14 %\n",
      "Epoch = 22     train_loss = 0.566627      train_acc = 82.0 %      validation_acc = 69.06 %\n",
      "Epoch = 23     train_loss = 0.591299      train_acc = 79.5 %      validation_acc = 69.16 %\n",
      "Epoch = 24     train_loss = 0.575545      train_acc = 77.5 %      validation_acc = 68.82 %\n",
      "Epoch = 25     train_loss = 0.585149      train_acc = 79.0 %      validation_acc = 69.68 %\n",
      "Epoch = 26     train_loss = 0.518235      train_acc = 83.5 %      validation_acc = 69.58 %\n",
      "Epoch = 27     train_loss = 0.56903      train_acc = 79.0 %      validation_acc = 69.22 %\n",
      "Epoch = 28     train_loss = 0.549365      train_acc = 84.0 %      validation_acc = 68.26 %\n",
      "Epoch = 29     train_loss = 0.556909      train_acc = 79.0 %      validation_acc = 69.42 %\n",
      "Epoch = 30     train_loss = 0.493078      train_acc = 84.0 %      validation_acc = 69.0 %\n",
      "Epoch = 31     train_loss = 0.459989      train_acc = 87.5 %      validation_acc = 68.76 %\n",
      "Epoch = 32     train_loss = 0.464481      train_acc = 83.5 %      validation_acc = 69.4 %\n",
      "Epoch = 33     train_loss = 0.452571      train_acc = 86.0 %      validation_acc = 69.02 %\n",
      "Epoch = 34     train_loss = 0.435843      train_acc = 88.0 %      validation_acc = 68.82 %\n",
      "Epoch = 35     train_loss = 0.42287      train_acc = 86.0 %      validation_acc = 69.52 %\n",
      "Epoch = 36     train_loss = 0.427858      train_acc = 86.5 %      validation_acc = 68.72 %\n",
      "Epoch = 37     train_loss = 0.418096      train_acc = 87.5 %      validation_acc = 68.98 %\n",
      "Epoch = 38     train_loss = 0.407322      train_acc = 84.0 %      validation_acc = 69.98 %\n",
      "Epoch = 39     train_loss = 0.382151      train_acc = 88.0 %      validation_acc = 69.38 %\n",
      "Epoch = 40     train_loss = 0.401937      train_acc = 86.5 %      validation_acc = 69.96 %\n",
      "Epoch = 41     train_loss = 0.368786      train_acc = 89.5 %      validation_acc = 69.7 %\n",
      "Epoch = 42     train_loss = 0.356417      train_acc = 89.5 %      validation_acc = 69.84 %\n",
      "Epoch = 43     train_loss = 0.376955      train_acc = 88.5 %      validation_acc = 69.46 %\n",
      "Epoch = 44     train_loss = 0.333556      train_acc = 90.0 %      validation_acc = 70.28 %\n",
      "Epoch = 45     train_loss = 0.353189      train_acc = 89.5 %      validation_acc = 69.72 %\n",
      "Epoch = 46     train_loss = 0.351358      train_acc = 92.0 %      validation_acc = 69.24 %\n",
      "Epoch = 47     train_loss = 0.330801      train_acc = 89.5 %      validation_acc = 70.66 %\n",
      "Epoch = 48     train_loss = 0.331311      train_acc = 89.5 %      validation_acc = 69.82 %\n",
      "Epoch = 49     train_loss = 0.364724      train_acc = 89.0 %      validation_acc = 69.92 %\n",
      "Epoch = 50     train_loss = 0.335801      train_acc = 88.0 %      validation_acc = 70.08 %\n",
      "Epoch = 51     train_loss = 0.327155      train_acc = 89.5 %      validation_acc = 69.38 %\n",
      "Epoch = 52     train_loss = 0.325166      train_acc = 87.0 %      validation_acc = 69.82 %\n",
      "Epoch = 53     train_loss = 0.3058      train_acc = 90.0 %      validation_acc = 69.7 %\n",
      "Epoch = 54     train_loss = 0.317115      train_acc = 91.0 %      validation_acc = 69.88 %\n",
      "Epoch = 55     train_loss = 0.29068      train_acc = 91.5 %      validation_acc = 69.56 %\n",
      "Epoch = 56     train_loss = 0.300987      train_acc = 89.5 %      validation_acc = 69.4 %\n",
      "Epoch = 57     train_loss = 0.272007      train_acc = 91.5 %      validation_acc = 69.88 %\n",
      "Epoch = 58     train_loss = 0.277335      train_acc = 92.0 %      validation_acc = 70.14 %\n",
      "Epoch = 59     train_loss = 0.276391      train_acc = 92.0 %      validation_acc = 70.18 %\n",
      "Epoch = 60     train_loss = 0.279736      train_acc = 90.0 %      validation_acc = 70.34 %\n",
      "Epoch = 61     train_loss = 0.263522      train_acc = 91.0 %      validation_acc = 70.06 %\n",
      "Epoch = 62     train_loss = 0.283775      train_acc = 90.5 %      validation_acc = 70.26 %\n",
      "Epoch = 63     train_loss = 0.265379      train_acc = 90.0 %      validation_acc = 69.9 %\n",
      "Epoch = 64     train_loss = 0.267992      train_acc = 91.0 %      validation_acc = 69.88 %\n",
      "Epoch = 65     train_loss = 0.272847      train_acc = 91.0 %      validation_acc = 70.3 %\n",
      "Epoch = 66     train_loss = 0.287681      train_acc = 90.5 %      validation_acc = 70.56 %\n",
      "Epoch = 67     train_loss = 0.249603      train_acc = 92.0 %      validation_acc = 70.44 %\n",
      "Epoch = 68     train_loss = 0.277034      train_acc = 91.0 %      validation_acc = 70.48 %\n",
      "Epoch = 69     train_loss = 0.24593      train_acc = 93.0 %      validation_acc = 70.08 %\n",
      "Epoch = 70     train_loss = 0.273444      train_acc = 93.0 %      validation_acc = 69.64 %\n",
      "Epoch = 71     train_loss = 0.30862      train_acc = 93.5 %      validation_acc = 69.96 %\n",
      "Epoch = 72     train_loss = 0.291507      train_acc = 92.0 %      validation_acc = 70.66 %\n",
      "Epoch = 73     train_loss = 0.239405      train_acc = 94.5 %      validation_acc = 70.5 %\n",
      "Epoch = 74     train_loss = 0.231459      train_acc = 92.5 %      validation_acc = 70.8 %\n",
      "Epoch = 75     train_loss = 0.226743      train_acc = 93.5 %      validation_acc = 69.32 %\n",
      "Epoch = 76     train_loss = 0.239362      train_acc = 94.0 %      validation_acc = 70.04 %\n",
      "Epoch = 77     train_loss = 0.241239      train_acc = 92.5 %      validation_acc = 69.98 %\n",
      "Epoch = 78     train_loss = 0.238925      train_acc = 93.0 %      validation_acc = 69.84 %\n",
      "Epoch = 79     train_loss = 0.235685      train_acc = 91.5 %      validation_acc = 69.78 %\n",
      "Epoch = 80     train_loss = 0.244013      train_acc = 92.5 %      validation_acc = 69.88 %\n",
      "Epoch = 81     train_loss = 0.237303      train_acc = 92.0 %      validation_acc = 70.06 %\n",
      "Epoch = 82     train_loss = 0.232272      train_acc = 93.5 %      validation_acc = 69.9 %\n",
      "Epoch = 83     train_loss = 0.24721      train_acc = 93.5 %      validation_acc = 69.46 %\n",
      "Epoch = 84     train_loss = 0.250007      train_acc = 91.0 %      validation_acc = 70.08 %\n",
      "Epoch = 85     train_loss = 0.210993      train_acc = 94.5 %      validation_acc = 69.44 %\n",
      "Epoch = 86     train_loss = 0.19311      train_acc = 95.0 %      validation_acc = 69.8 %\n",
      "Epoch = 87     train_loss = 0.220451      train_acc = 93.5 %      validation_acc = 69.2 %\n",
      "Epoch = 88     train_loss = 0.219891      train_acc = 95.0 %      validation_acc = 69.56 %\n",
      "Epoch = 89     train_loss = 0.214597      train_acc = 94.0 %      validation_acc = 70.26 %\n",
      "Epoch = 90     train_loss = 0.191108      train_acc = 94.0 %      validation_acc = 71.04 %\n",
      "Epoch = 91     train_loss = 0.216638      train_acc = 94.0 %      validation_acc = 70.0 %\n",
      "Epoch = 92     train_loss = 0.216347      train_acc = 92.0 %      validation_acc = 69.54 %\n",
      "Epoch = 93     train_loss = 0.2      train_acc = 95.0 %      validation_acc = 70.04 %\n",
      "Epoch = 94     train_loss = 0.212424      train_acc = 92.0 %      validation_acc = 69.76 %\n",
      "Epoch = 95     train_loss = 0.195728      train_acc = 94.0 %      validation_acc = 69.92 %\n",
      "Epoch = 96     train_loss = 0.205914      train_acc = 93.0 %      validation_acc = 70.22 %\n",
      "Epoch = 97     train_loss = 0.195489      train_acc = 94.5 %      validation_acc = 69.84 %\n",
      "Epoch = 98     train_loss = 0.20496      train_acc = 93.0 %      validation_acc = 69.84 %\n",
      "Epoch = 99     train_loss = 0.188515      train_acc = 94.5 %      validation_acc = 69.2 %\n"
     ]
    }
   ],
   "source": [
    "with tf.Session(config=tf.ConfigProto(log_device_placement=True)) as session:\n",
    "    # 可视化整个网络结构的视图，通过 TensorBoard 查看\n",
    "    tf.summary.FileWriter('./graphs', session.graph)\n",
    "    session.run(tf.global_variables_initializer())\n",
    "    for i in range(epoch):\n",
    "        # 将训练集按 batch_size 切分为很多 batch，每个 batch 用于更新一次模型参数\n",
    "        for X_batch, Y_batch in get_batch(X_train, Y_train, batch_size):\n",
    "            session.run(optimizer, feed_dict={x_input:X_batch, y_true:Y_batch, keep_prob:dropout})\n",
    "        \n",
    "        # 本轮训练集（45000张图片）最后一个 batch 的损失值\n",
    "        loss = session.run(cost, feed_dict={x_input:X_batch, y_true:Y_batch, keep_prob:1})\n",
    "        \n",
    "        # 本轮训练后的模型用于训练集的最后一个 batch 的准确率\n",
    "        acc = session.run(accuracy, feed_dict={x_input:X_batch, y_true:Y_batch, keep_prob:1})\n",
    "        \n",
    "        # 本轮训练后的模型用于验证集（5000张图片）的准确率\n",
    "        val_acc = session.run(accuracy, feed_dict={x_input:X_test, y_true:Y_test, keep_prob:1})\n",
    "        \n",
    "        print(\"Epoch =\", i, \"    train_loss =\", loss, \n",
    "              \"     train_acc =\", round(acc * 100, 2), \"%\", \n",
    "              \"     validation_acc =\", round(val_acc * 100, 2), \"%\")\n",
    "\n",
    "    saver = tf.train.Saver()\n",
    "    save_path = saver.save(session, '.\\michael')"
   ]
  },
  {
   "cell_type": "markdown",
   "metadata": {},
   "source": [
    "## 总结\n",
    "\n",
    "带BatchNorm和L2正则的三层卷积模型在CIFAR10数据集上的最终准确率为70%左右。"
   ]
  },
  {
   "cell_type": "markdown",
   "metadata": {},
   "source": [
    "Couple of tips:\n",
    "- make sure you do Xavier initialization (check that you use the correct parameters depending upon your activation function);\n",
    "- make sure you are using ReLU (but try Leaky ReLU as well) as your activation function - or possibly ELU;\n",
    "- implement batch normalization prior to fully connected layers (its often useful in other layers);\n",
    "- make sure you've implemented dropout;\n",
    "- test out a different regularization and dropout parameters;\n",
    "- building an ensemble might net you an additional 1-2% (do this at the end)."
   ]
  }
 ],
 "metadata": {
  "kernelspec": {
   "display_name": "Python 3",
   "language": "python",
   "name": "python3"
  },
  "language_info": {
   "codemirror_mode": {
    "name": "ipython",
    "version": 3
   },
   "file_extension": ".py",
   "mimetype": "text/x-python",
   "name": "python",
   "nbconvert_exporter": "python",
   "pygments_lexer": "ipython3",
   "version": "3.5.3"
  }
 },
 "nbformat": 4,
 "nbformat_minor": 2
}
