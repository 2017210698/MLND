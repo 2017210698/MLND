{
 "cells": [
  {
   "cell_type": "markdown",
   "metadata": {},
   "source": [
    "# CIFAR10 Image Classification using Keras"
   ]
  },
  {
   "cell_type": "code",
   "execution_count": 34,
   "metadata": {
    "collapsed": false
   },
   "outputs": [],
   "source": [
    "from keras.datasets import cifar10\n",
    "from keras.preprocessing.image import ImageDataGenerator\n",
    "from keras.models import Sequential, load_model, Model\n",
    "from keras.layers import Input, Dense, Dropout, Activation, Flatten\n",
    "from keras.layers import Convolution2D, MaxPooling2D\n",
    "from keras.layers.noise import GaussianNoise\n",
    "from keras.layers.normalization import BatchNormalization\n",
    "import pandas as pd\n",
    "import matplotlib.pyplot as plt\n",
    "import time, pickle\n",
    "from keras.utils import to_categorical\n",
    "%matplotlib inline"
   ]
  },
  {
   "cell_type": "markdown",
   "metadata": {},
   "source": [
    "## Import Data"
   ]
  },
  {
   "cell_type": "code",
   "execution_count": 6,
   "metadata": {
    "collapsed": true
   },
   "outputs": [],
   "source": [
    "nb_classes = 10\n",
    "class_name = {\n",
    "    0: 'airplane',\n",
    "    1: 'automobile',\n",
    "    2: 'bird',\n",
    "    3: 'cat',\n",
    "    4: 'deer',\n",
    "    5: 'dog',\n",
    "    6: 'frog',\n",
    "    7: 'horse',\n",
    "    8: 'ship',\n",
    "    9: 'truck',\n",
    "}"
   ]
  },
  {
   "cell_type": "code",
   "execution_count": 7,
   "metadata": {
    "collapsed": false
   },
   "outputs": [
    {
     "name": "stdout",
     "output_type": "stream",
     "text": [
      "Downloading data from http://www.cs.toronto.edu/~kriz/cifar-10-python.tar.gz\n"
     ]
    }
   ],
   "source": [
    "(X_train, y_train), (X_test, y_test) = cifar10.load_data()"
   ]
  },
  {
   "cell_type": "code",
   "execution_count": 11,
   "metadata": {
    "collapsed": false
   },
   "outputs": [
    {
     "name": "stdout",
     "output_type": "stream",
     "text": [
      "X_train shape: (50000, 32, 32, 3)\n",
      "50000 training samples\n",
      "10000 validation samples\n"
     ]
    }
   ],
   "source": [
    "y_train = y_train.reshape(y_train.shape[0])\n",
    "y_test = y_test.reshape(y_test.shape[0])\n",
    "\n",
    "print 'X_train shape:', X_train.shape\n",
    "print X_train.shape[0], 'training samples'\n",
    "print X_test.shape[0], 'validation samples'"
   ]
  },
  {
   "cell_type": "markdown",
   "metadata": {},
   "source": [
    "## Normalize"
   ]
  },
  {
   "cell_type": "code",
   "execution_count": 12,
   "metadata": {
    "collapsed": true
   },
   "outputs": [],
   "source": [
    "X_train = X_train.astype('float32')\n",
    "X_test = X_test.astype('float32')\n",
    "X_train /= 255\n",
    "X_test /= 255"
   ]
  },
  {
   "cell_type": "markdown",
   "metadata": {},
   "source": [
    "## To Categorical"
   ]
  },
  {
   "cell_type": "code",
   "execution_count": 15,
   "metadata": {
    "collapsed": false
   },
   "outputs": [],
   "source": [
    "y_train = to_categorical(y_train, nb_classes)\n",
    "y_test = to_categorical(y_test, nb_classes)"
   ]
  },
  {
   "cell_type": "markdown",
   "metadata": {},
   "source": [
    "## Create Model # 1"
   ]
  },
  {
   "cell_type": "code",
   "execution_count": 63,
   "metadata": {
    "collapsed": true
   },
   "outputs": [],
   "source": [
    "nb_epoch = 20\n",
    "batch_size = 256"
   ]
  },
  {
   "cell_type": "code",
   "execution_count": 62,
   "metadata": {
    "collapsed": false
   },
   "outputs": [
    {
     "name": "stdout",
     "output_type": "stream",
     "text": [
      "_________________________________________________________________\n",
      "Layer (type)                 Output Shape              Param #   \n",
      "=================================================================\n",
      "input_10 (InputLayer)        (None, 32, 32, 3)         0         \n",
      "_________________________________________________________________\n",
      "conv2d_30 (Conv2D)           (None, 32, 32, 64)        1792      \n",
      "_________________________________________________________________\n",
      "batch_normalization_13 (Batc (None, 32, 32, 64)        256       \n",
      "_________________________________________________________________\n",
      "conv2d_31 (Conv2D)           (None, 32, 32, 64)        36928     \n",
      "_________________________________________________________________\n",
      "batch_normalization_14 (Batc (None, 32, 32, 64)        256       \n",
      "_________________________________________________________________\n",
      "max_pooling2d_15 (MaxPooling (None, 16, 16, 64)        0         \n",
      "_________________________________________________________________\n",
      "conv2d_32 (Conv2D)           (None, 16, 16, 128)       73856     \n",
      "_________________________________________________________________\n",
      "batch_normalization_15 (Batc (None, 16, 16, 128)       512       \n",
      "_________________________________________________________________\n",
      "conv2d_33 (Conv2D)           (None, 16, 16, 128)       147584    \n",
      "_________________________________________________________________\n",
      "batch_normalization_16 (Batc (None, 16, 16, 128)       512       \n",
      "_________________________________________________________________\n",
      "max_pooling2d_16 (MaxPooling (None, 8, 8, 128)         0         \n",
      "_________________________________________________________________\n",
      "flatten_8 (Flatten)          (None, 8192)              0         \n",
      "_________________________________________________________________\n",
      "dense_15 (Dense)             (None, 128)               1048704   \n",
      "_________________________________________________________________\n",
      "dropout_8 (Dropout)          (None, 128)               0         \n",
      "_________________________________________________________________\n",
      "dense_16 (Dense)             (None, 10)                1290      \n",
      "=================================================================\n",
      "Total params: 1,311,690\n",
      "Trainable params: 1,310,922\n",
      "Non-trainable params: 768\n",
      "_________________________________________________________________\n"
     ]
    }
   ],
   "source": [
    "x = Input(shape=(32, 32, 3))\n",
    "y = x\n",
    "y = Convolution2D(filters=64, kernel_size=3, strides=1, padding='same', activation='relu', kernel_initializer='he_normal')(y)\n",
    "y = BatchNormalization()(y)\n",
    "y = Convolution2D(filters=64, kernel_size=3, strides=1, padding='same', activation='relu', kernel_initializer='he_normal')(y)\n",
    "y = BatchNormalization()(y)\n",
    "y = MaxPooling2D(pool_size=2, strides=2, padding='valid')(y)\n",
    "\n",
    "y = Convolution2D(filters=128, kernel_size=3, strides=1, padding='same', activation='relu', kernel_initializer='he_normal')(y)\n",
    "y = BatchNormalization()(y)\n",
    "y = Convolution2D(filters=128, kernel_size=3, strides=1, padding='same', activation='relu', kernel_initializer='he_normal')(y)\n",
    "y = BatchNormalization()(y)\n",
    "y = MaxPooling2D(pool_size=2, strides=2, padding='valid')(y)\n",
    "\n",
    "y = Flatten()(y)\n",
    "y = Dense(units=128, activation='relu')(y)\n",
    "y = Dropout(0.5)(y)\n",
    "y = Dense(units=nb_classes, activation='softmax')(y)\n",
    "\n",
    "# SGD (Stochastic Gradient Descent)\n",
    "lrate = 0.01\n",
    "decay = lrate / nb_epoch\n",
    "sgd = SGD(lr=lrate, momentum=0.9, decay=decay, nesterov=False)\n",
    "\n",
    "model1 = Model(inputs=x, outputs=y, name='model1')\n",
    "\n",
    "model1.compile(loss='categorical_crossentropy', optimizer='adadelta', metrics=['accuracy'])\n",
    "\n",
    "model1.summary()"
   ]
  },
  {
   "cell_type": "code",
   "execution_count": 64,
   "metadata": {
    "collapsed": false,
    "scrolled": false
   },
   "outputs": [
    {
     "name": "stdout",
     "output_type": "stream",
     "text": [
      "Train on 50000 samples, validate on 10000 samples\n",
      "Epoch 1/20\n",
      "50000/50000 [==============================] - 41s - loss: 1.7412 - acc: 0.3943 - val_loss: 2.7684 - val_acc: 0.2247\n",
      "Epoch 2/20\n",
      "50000/50000 [==============================] - 41s - loss: 1.3449 - acc: 0.5272 - val_loss: 1.2762 - val_acc: 0.5375\n",
      "Epoch 3/20\n",
      "50000/50000 [==============================] - 41s - loss: 1.1527 - acc: 0.5968 - val_loss: 1.1009 - val_acc: 0.6132\n",
      "Epoch 4/20\n",
      "50000/50000 [==============================] - 41s - loss: 1.0140 - acc: 0.6441 - val_loss: 0.9811 - val_acc: 0.6562\n",
      "Epoch 5/20\n",
      "50000/50000 [==============================] - 41s - loss: 0.9095 - acc: 0.6806 - val_loss: 0.8937 - val_acc: 0.6870\n",
      "Epoch 6/20\n",
      "50000/50000 [==============================] - 41s - loss: 0.8224 - acc: 0.7098 - val_loss: 0.9892 - val_acc: 0.6627\n",
      "Epoch 7/20\n",
      "50000/50000 [==============================] - 41s - loss: 0.7379 - acc: 0.7371 - val_loss: 0.8393 - val_acc: 0.7159\n",
      "Epoch 8/20\n",
      "50000/50000 [==============================] - 41s - loss: 0.6741 - acc: 0.7623 - val_loss: 0.8470 - val_acc: 0.7228\n",
      "Epoch 9/20\n",
      "50000/50000 [==============================] - 41s - loss: 0.6064 - acc: 0.7827 - val_loss: 0.8534 - val_acc: 0.7204\n",
      "Epoch 10/20\n",
      "50000/50000 [==============================] - 41s - loss: 0.5490 - acc: 0.8022 - val_loss: 0.8022 - val_acc: 0.7394\n",
      "Epoch 11/20\n",
      "50000/50000 [==============================] - 41s - loss: 0.4931 - acc: 0.8217 - val_loss: 0.8869 - val_acc: 0.7266\n",
      "Epoch 12/20\n",
      "50000/50000 [==============================] - 41s - loss: 0.4459 - acc: 0.8377 - val_loss: 0.8516 - val_acc: 0.7493\n",
      "Epoch 13/20\n",
      "50000/50000 [==============================] - 41s - loss: 0.4008 - acc: 0.8529 - val_loss: 0.7868 - val_acc: 0.7550\n",
      "Epoch 14/20\n",
      "50000/50000 [==============================] - 41s - loss: 0.3637 - acc: 0.8655 - val_loss: 0.8054 - val_acc: 0.7638\n",
      "Epoch 15/20\n",
      "50000/50000 [==============================] - 41s - loss: 0.3202 - acc: 0.8825 - val_loss: 0.7852 - val_acc: 0.7705\n",
      "Epoch 16/20\n",
      "50000/50000 [==============================] - 41s - loss: 0.2935 - acc: 0.8918 - val_loss: 0.8748 - val_acc: 0.7468\n",
      "Epoch 17/20\n",
      "50000/50000 [==============================] - 41s - loss: 0.2630 - acc: 0.9038 - val_loss: 0.8654 - val_acc: 0.7680\n",
      "Epoch 18/20\n",
      "50000/50000 [==============================] - 41s - loss: 0.2390 - acc: 0.9135 - val_loss: 0.8078 - val_acc: 0.7745\n",
      "Epoch 19/20\n",
      "50000/50000 [==============================] - 41s - loss: 0.2173 - acc: 0.9204 - val_loss: 0.8810 - val_acc: 0.7680\n",
      "Epoch 20/20\n",
      "50000/50000 [==============================] - 41s - loss: 0.1987 - acc: 0.9287 - val_loss: 0.8797 - val_acc: 0.7768\n"
     ]
    }
   ],
   "source": [
    "h = model1.fit(x=X_train, y=y_train, batch_size=batch_size, epochs=nb_epoch, validation_data=(X_test, y_test), shuffle=True)"
   ]
  },
  {
   "cell_type": "code",
   "execution_count": 72,
   "metadata": {
    "collapsed": false
   },
   "outputs": [
    {
     "data": {
      "image/png": "[encoded data removed]",
      "text/plain": [
       "<matplotlib.figure.Figure at 0x7f321c4c7c90>"
      ]
     },
     "metadata": {},
     "output_type": "display_data"
    }
   ],
   "source": [
    "acc, loss, val_acc, val_loss = h.history['acc'], h.history['loss'], h.history['val_acc'], h.history['val_loss']\n",
    "plt.figure(figsize=(15, 5))\n",
    "plt.subplot(121)\n",
    "plt.plot(range(nb_epoch), acc, label='Train')\n",
    "plt.plot(range(nb_epoch), val_acc, label='Test')\n",
    "plt.title('Accuracy over ' + str(nb_epoch) + ' Epochs', size=20)\n",
    "plt.legend()\n",
    "plt.grid(True)\n",
    "plt.subplot(122)\n",
    "plt.plot(range(nb_epoch), loss, label='Train')\n",
    "plt.plot(range(nb_epoch), val_loss, label='Test')\n",
    "plt.title('Loss over ' + str(nb_epoch) + ' Epochs', size=20)\n",
    "plt.legend()\n",
    "plt.grid(True)\n",
    "plt.show()"
   ]
  },
  {
   "cell_type": "code",
   "execution_count": 68,
   "metadata": {
    "collapsed": false
   },
   "outputs": [
    {
     "name": "stdout",
     "output_type": "stream",
     "text": [
      "Training Accuracy = 98.14 %     loss = 0.069331\n",
      "Testing Accuracy = 77.68 %    loss = 0.879715\n"
     ]
    }
   ],
   "source": [
    "loss, accuracy = model1.evaluate(X_train, y_train, verbose=0)\n",
    "print(\"Training Accuracy = %.2f %%     loss = %f\" % (accuracy * 100, loss))\n",
    "loss, accuracy = model1.evaluate(X_test, y_test, verbose=0)\n",
    "print(\"Testing Accuracy = %.2f %%    loss = %f\" % (accuracy * 100, loss))"
   ]
  },
  {
   "cell_type": "markdown",
   "metadata": {},
   "source": [
    "## Data Augmentation"
   ]
  },
  {
   "cell_type": "code",
   "execution_count": 75,
   "metadata": {
    "collapsed": false
   },
   "outputs": [
    {
     "name": "stdout",
     "output_type": "stream",
     "text": [
      "Epoch 1/20\n",
      "195/195 [==============================] - 41s - loss: 0.3138 - acc: 0.8951 - val_loss: 0.5025 - val_acc: 0.8599\n",
      "Epoch 2/20\n",
      "195/195 [==============================] - 40s - loss: 0.3087 - acc: 0.8966 - val_loss: 0.5120 - val_acc: 0.8656\n",
      "Epoch 3/20\n",
      "195/195 [==============================] - 40s - loss: 0.3060 - acc: 0.8968 - val_loss: 0.5991 - val_acc: 0.8631\n",
      "Epoch 4/20\n",
      "195/195 [==============================] - 40s - loss: 0.3091 - acc: 0.8962 - val_loss: 0.5032 - val_acc: 0.8625\n",
      "Epoch 5/20\n",
      "195/195 [==============================] - 40s - loss: 0.3027 - acc: 0.8991 - val_loss: 0.4655 - val_acc: 0.8607\n",
      "Epoch 6/20\n",
      "195/195 [==============================] - 40s - loss: 0.2982 - acc: 0.8996 - val_loss: 0.5265 - val_acc: 0.8672\n",
      "Epoch 7/20\n",
      "195/195 [==============================] - 40s - loss: 0.2970 - acc: 0.9002 - val_loss: 0.5160 - val_acc: 0.8638\n",
      "Epoch 8/20\n",
      "195/195 [==============================] - 40s - loss: 0.2919 - acc: 0.9029 - val_loss: 0.5511 - val_acc: 0.8685\n",
      "Epoch 9/20\n",
      "195/195 [==============================] - 40s - loss: 0.2985 - acc: 0.9013 - val_loss: 0.4872 - val_acc: 0.8639\n",
      "Epoch 10/20\n",
      "195/195 [==============================] - 40s - loss: 0.2902 - acc: 0.9023 - val_loss: 0.5407 - val_acc: 0.8680\n",
      "Epoch 11/20\n",
      "195/195 [==============================] - 40s - loss: 0.2974 - acc: 0.9016 - val_loss: 0.4585 - val_acc: 0.8667\n",
      "Epoch 12/20\n",
      "195/195 [==============================] - 40s - loss: 0.2869 - acc: 0.9050 - val_loss: 0.5512 - val_acc: 0.8691\n",
      "Epoch 13/20\n",
      "195/195 [==============================] - 40s - loss: 0.2830 - acc: 0.9064 - val_loss: 0.6013 - val_acc: 0.8633\n",
      "Epoch 14/20\n",
      "195/195 [==============================] - 40s - loss: 0.2863 - acc: 0.9051 - val_loss: 0.5623 - val_acc: 0.8739\n",
      "Epoch 15/20\n",
      "195/195 [==============================] - 40s - loss: 0.2854 - acc: 0.9061 - val_loss: 0.4737 - val_acc: 0.8653\n",
      "Epoch 16/20\n",
      "195/195 [==============================] - 40s - loss: 0.2858 - acc: 0.9040 - val_loss: 0.5347 - val_acc: 0.8691\n",
      "Epoch 17/20\n",
      "195/195 [==============================] - 40s - loss: 0.2850 - acc: 0.9045 - val_loss: 0.4755 - val_acc: 0.8668\n",
      "Epoch 18/20\n",
      "195/195 [==============================] - 40s - loss: 0.2793 - acc: 0.9078 - val_loss: 0.5048 - val_acc: 0.8734\n",
      "Epoch 19/20\n",
      "195/195 [==============================] - 40s - loss: 0.2777 - acc: 0.9082 - val_loss: 0.4792 - val_acc: 0.8697\n",
      "Epoch 20/20\n",
      "195/195 [==============================] - 40s - loss: 0.2735 - acc: 0.9093 - val_loss: 0.5409 - val_acc: 0.8659\n"
     ]
    }
   ],
   "source": [
    "aug_gen = ImageDataGenerator(\n",
    "    featurewise_center = False,  # set input mean to 0 over the dataset\n",
    "    samplewise_center = False,  # set each sample mean to 0\n",
    "    featurewise_std_normalization = False,  # divide inputs by std of the dataset\n",
    "    samplewise_std_normalization = False,  # divide each input by its std\n",
    "    zca_whitening = False,  # apply ZCA whitening\n",
    "    rotation_range = 0,  # randomly rotate images in the range (degrees, 0 to 180)\n",
    "    width_shift_range = 0.1,  # randomly shift images horizontally (fraction of total width)\n",
    "    height_shift_range = 0.1,  # randomly shift images vertically (fraction of total height)\n",
    "    horizontal_flip = True,  # randomly flip images\n",
    "    vertical_flip = False,  # randomly flip images\n",
    ")\n",
    "\n",
    "aug_gen.fit(X_train)\n",
    "gen = aug_gen.flow(X_train, y_train, batch_size=batch_size)\n",
    "h = model1.fit_generator(generator=gen, steps_per_epoch=50000//batch_size, epochs=nb_epoch, validation_data=(X_test, y_test))"
   ]
  },
  {
   "cell_type": "code",
   "execution_count": 76,
   "metadata": {
    "collapsed": false
   },
   "outputs": [
    {
     "name": "stdout",
     "output_type": "stream",
     "text": [
      "Training Accuracy = 95.99 %     loss = 0.123636\n",
      "Testing Accuracy = 86.59 %    loss = 0.540904\n"
     ]
    }
   ],
   "source": [
    "loss, accuracy = model1.evaluate(X_train, y_train, verbose=0)\n",
    "print(\"Training Accuracy = %.2f %%     loss = %f\" % (accuracy * 100, loss))\n",
    "loss, accuracy = model1.evaluate(X_test, y_test, verbose=0)\n",
    "print(\"Testing Accuracy = %.2f %%    loss = %f\" % (accuracy * 100, loss))"
   ]
  }
 ],
 "metadata": {
  "anaconda-cloud": {},
  "kernelspec": {
   "display_name": "Python [conda env:mlnd-dl]",
   "language": "python",
   "name": "conda-env-mlnd-dl-py"
  },
  "language_info": {
   "codemirror_mode": {
    "name": "ipython",
    "version": 2
   },
   "file_extension": ".py",
   "mimetype": "text/x-python",
   "name": "python",
   "nbconvert_exporter": "python",
   "pygments_lexer": "ipython2",
   "version": "2.7.12"
  }
 },
 "nbformat": 4,
 "nbformat_minor": 1
}
