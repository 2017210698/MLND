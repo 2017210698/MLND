{
 "cells": [
  {
   "cell_type": "markdown",
   "metadata": {},
   "source": [
    "# CIFAR10 Image Classification using Keras 简洁版"
   ]
  },
  {
   "cell_type": "code",
   "execution_count": 5,
   "metadata": {
    "collapsed": false
   },
   "outputs": [],
   "source": [
    "from keras.datasets import cifar10\n",
    "from keras.preprocessing.image import ImageDataGenerator\n",
    "from keras.models import Sequential, load_model, Model\n",
    "from keras.layers import Input, Dense, Dropout, Activation, Flatten\n",
    "from keras.layers import Convolution2D, MaxPooling2D\n",
    "from keras.layers.noise import GaussianNoise\n",
    "from keras.layers.normalization import BatchNormalization\n",
    "import pandas as pd\n",
    "import matplotlib.pyplot as plt\n",
    "import time, pickle\n",
    "from keras.utils import to_categorical\n",
    "%matplotlib inline\n",
    "\n",
    "nb_classes = 10\n",
    "class_name = {\n",
    "    0: 'airplane',\n",
    "    1: 'automobile',\n",
    "    2: 'bird',\n",
    "    3: 'cat',\n",
    "    4: 'deer',\n",
    "    5: 'dog',\n",
    "    6: 'frog',\n",
    "    7: 'horse',\n",
    "    8: 'ship',\n",
    "    9: 'truck',\n",
    "}\n",
    "\n",
    "(X_train, y_train), (X_test, y_test) = cifar10.load_data()\n",
    "\n",
    "y_train = y_train.reshape(y_train.shape[0])\n",
    "y_test = y_test.reshape(y_test.shape[0])\n",
    "y_train = to_categorical(y_train, nb_classes)\n",
    "y_test = to_categorical(y_test, nb_classes)\n",
    "X_train = X_train.astype('float32')\n",
    "X_test = X_test.astype('float32')\n",
    "X_train /= 255\n",
    "X_test /= 255"
   ]
  },
  {
   "cell_type": "code",
   "execution_count": 8,
   "metadata": {
    "collapsed": true
   },
   "outputs": [],
   "source": [
    "from keras.layers.merge import Concatenate\n",
    "from keras.layers.core import Lambda\n",
    "from keras.models import Model\n",
    "import tensorflow as tf\n",
    "\n",
    "def make_parallel(model, gpu_count):\n",
    "\n",
    "    def get_slice(data, idx, parts):\n",
    "        shape = tf.shape(data)\n",
    "        size = tf.concat([shape[:1] // parts, shape[1:]], axis=0)\n",
    "        stride = tf.concat([shape[:1] // parts, shape[1:] * 0], axis=0)\n",
    "        start = stride * idx\n",
    "        return tf.slice(data, start, size)\n",
    "\n",
    "    outputs_all = []\n",
    "    for i in range(len(model.outputs)):\n",
    "        outputs_all.append([])\n",
    "\n",
    "    # Place a copy of the model on each GPU, each getting a slice of the batch\n",
    "    for i in range(gpu_count):\n",
    "        with tf.device('/gpu:%d' % i):\n",
    "            with tf.name_scope('tower_%d' % i) as scope:\n",
    "\n",
    "                inputs = []\n",
    "                # Slice each input into a piece for processing on this GPU\n",
    "                for x in model.inputs:\n",
    "                    input_shape = tuple(x.get_shape().as_list())[1:]\n",
    "                    slice_n = Lambda(get_slice, output_shape=input_shape, arguments={'idx': i, 'parts': gpu_count})(x)\n",
    "                    inputs.append(slice_n)\n",
    "\n",
    "                outputs = model(inputs)\n",
    "\n",
    "                if not isinstance(outputs, list):\n",
    "                    outputs = [outputs]\n",
    "\n",
    "                # Save all the outputs for merging back together later\n",
    "                for l in range(len(outputs)):\n",
    "                    outputs_all[l].append(outputs[l])\n",
    "\n",
    "    # merge outputs on CPU\n",
    "    # 也可以设为GPU，如果CPU负载已经很大的话\n",
    "    with tf.device('/cpu:0'):\n",
    "        merged = []\n",
    "        for outputs in outputs_all:\n",
    "            merged.append(Concatenate(axis=0)(outputs))\n",
    "        return Model(model.inputs, merged)"
   ]
  },
  {
   "cell_type": "code",
   "execution_count": 30,
   "metadata": {
    "collapsed": false
   },
   "outputs": [
    {
     "name": "stdout",
     "output_type": "stream",
     "text": [
      "____________________________________________________________________________________________________\n",
      "Layer (type)                     Output Shape          Param #     Connected to                     \n",
      "====================================================================================================\n",
      "input_14 (InputLayer)            (None, 32, 32, 3)     0                                            \n",
      "____________________________________________________________________________________________________\n",
      "lambda_15 (Lambda)               (None, 32, 32, 3)     0           input_14[0][0]                   \n",
      "____________________________________________________________________________________________________\n",
      "lambda_16 (Lambda)               (None, 32, 32, 3)     0           input_14[0][0]                   \n",
      "____________________________________________________________________________________________________\n",
      "model1 (Model)                   (None, 10)            4705866     lambda_15[0][0]                  \n",
      "                                                                   lambda_16[0][0]                  \n",
      "____________________________________________________________________________________________________\n",
      "concatenate_8 (Concatenate)      (None, 10)            0           model1[1][0]                     \n",
      "                                                                   model1[2][0]                     \n",
      "====================================================================================================\n",
      "Total params: 4,705,866\n",
      "Trainable params: 4,705,866\n",
      "Non-trainable params: 0\n",
      "____________________________________________________________________________________________________\n"
     ]
    }
   ],
   "source": [
    "x = Input(shape=(32, 32, 3))\n",
    "y = x\n",
    "y = Convolution2D(filters=64, kernel_size=3, strides=1, padding='same', activation='relu', kernel_initializer='he_normal')(y)\n",
    "y = Convolution2D(filters=64, kernel_size=3, strides=1, padding='same', activation='relu', kernel_initializer='he_normal')(y)\n",
    "y = MaxPooling2D(pool_size=2, strides=2, padding='same')(y)\n",
    "\n",
    "y = Convolution2D(filters=128, kernel_size=3, strides=1, padding='same', activation='relu', kernel_initializer='he_normal')(y)\n",
    "y = Convolution2D(filters=128, kernel_size=3, strides=1, padding='same', activation='relu', kernel_initializer='he_normal')(y)\n",
    "y = MaxPooling2D(pool_size=2, strides=2, padding='same')(y)\n",
    "\n",
    "y = Convolution2D(filters=256, kernel_size=3, strides=1, padding='same', activation='relu', kernel_initializer='he_normal')(y)\n",
    "y = Convolution2D(filters=256, kernel_size=3, strides=1, padding='same', activation='relu', kernel_initializer='he_normal')(y)\n",
    "y = MaxPooling2D(pool_size=2, strides=2, padding='same')(y)\n",
    "\n",
    "y = Convolution2D(filters=512, kernel_size=3, strides=1, padding='same', activation='relu', kernel_initializer='he_normal')(y)\n",
    "y = Convolution2D(filters=512, kernel_size=3, strides=1, padding='same', activation='relu', kernel_initializer='he_normal')(y)\n",
    "y = MaxPooling2D(pool_size=2, strides=2, padding='same')(y)\n",
    "\n",
    "y = Flatten()(y)\n",
    "y = Dropout(0.5)(y)\n",
    "y = Dense(units=nb_classes, activation='softmax', kernel_initializer='he_normal')(y)\n",
    "\n",
    "model1 = Model(inputs=x, outputs=y, name='model1')\n",
    "\n",
    "model1 = make_parallel(model1, 2)\n",
    "\n",
    "model1.compile(loss='categorical_crossentropy', optimizer='adadelta', metrics=['accuracy'])\n",
    "\n",
    "model1.summary()"
   ]
  },
  {
   "cell_type": "code",
   "execution_count": null,
   "metadata": {
    "collapsed": false,
    "scrolled": false
   },
   "outputs": [],
   "source": [
    "nb_epoch = 100\n",
    "batch_size = 256\n",
    "start = time.time()\n",
    "h = model1.fit(x=X_train, y=y_train, batch_size=batch_size, epochs=nb_epoch, validation_data=(X_test, y_test), shuffle=True)\n",
    "model1.save('CIFAR10_model_dual_GPU_1.h5')\n",
    "print('@ Total Time Spent: %.2f seconds' % (time.time() - start))"
   ]
  },
  {
   "cell_type": "code",
   "execution_count": 11,
   "metadata": {
    "collapsed": false
   },
   "outputs": [
    {
     "data": {
      "image/png": "[encoded data removed]",
      "text/plain": [
       "<matplotlib.figure.Figure at 0x1ab01f8d9b0>"
      ]
     },
     "metadata": {},
     "output_type": "display_data"
    }
   ],
   "source": [
    "def plot_acc_loss(h, nb_epoch):\n",
    "    acc, loss, val_acc, val_loss = h.history['acc'], h.history['loss'], h.history['val_acc'], h.history['val_loss']\n",
    "    plt.figure(figsize=(15, 5))\n",
    "    plt.subplot(121)\n",
    "    plt.plot(range(nb_epoch), acc, label='Train')\n",
    "    plt.plot(range(nb_epoch), val_acc, label='Test')\n",
    "    plt.title('Accuracy over ' + str(nb_epoch) + ' Epochs', size=15)\n",
    "    plt.legend()\n",
    "    plt.grid(True)\n",
    "    plt.subplot(122)\n",
    "    plt.plot(range(nb_epoch), loss, label='Train')\n",
    "    plt.plot(range(nb_epoch), val_loss, label='Test')\n",
    "    plt.title('Loss over ' + str(nb_epoch) + ' Epochs', size=15)\n",
    "    plt.legend()\n",
    "    plt.grid(True)\n",
    "    plt.show()\n",
    "    \n",
    "plot_acc_loss(h, nb_epoch)"
   ]
  },
  {
   "cell_type": "code",
   "execution_count": null,
   "metadata": {
    "collapsed": false
   },
   "outputs": [],
   "source": [
    "model1 = load_model('CIFAR10_model_dual_GPU_1.h5')"
   ]
  },
  {
   "cell_type": "code",
   "execution_count": null,
   "metadata": {
    "collapsed": false,
    "scrolled": false
   },
   "outputs": [
    {
     "name": "stdout",
     "output_type": "stream",
     "text": [
      "Epoch 1/100\n",
      "195/195 [==============================] - 13s - loss: 2.0162 - acc: 0.2647 - val_loss: 1.9591 - val_acc: 0.2759\n",
      "Epoch 2/100\n",
      "195/195 [==============================] - 11s - loss: 1.5790 - acc: 0.4262 - val_loss: 1.3304 - val_acc: 0.5205\n",
      "Epoch 3/100\n",
      "195/195 [==============================] - 11s - loss: 1.3553 - acc: 0.5174 - val_loss: 1.1263 - val_acc: 0.5973\n",
      "Epoch 4/100\n",
      "195/195 [==============================] - 12s - loss: 1.1626 - acc: 0.5872 - val_loss: 0.9652 - val_acc: 0.6650\n",
      "Epoch 5/100\n",
      "195/195 [==============================] - 11s - loss: 1.0181 - acc: 0.6409 - val_loss: 0.8502 - val_acc: 0.7001\n",
      "Epoch 6/100\n",
      "195/195 [==============================] - 11s - loss: 0.9072 - acc: 0.6820 - val_loss: 0.7946 - val_acc: 0.7263\n",
      "Epoch 7/100\n",
      "195/195 [==============================] - 11s - loss: 0.8276 - acc: 0.7117 - val_loss: 0.8220 - val_acc: 0.7176\n",
      "Epoch 8/100\n",
      "195/195 [==============================] - 11s - loss: 0.7486 - acc: 0.7402 - val_loss: 0.6960 - val_acc: 0.7617\n",
      "Epoch 9/100\n",
      "195/195 [==============================] - 12s - loss: 0.6912 - acc: 0.7583 - val_loss: 0.6840 - val_acc: 0.7706\n",
      "Epoch 10/100\n",
      "195/195 [==============================] - 12s - loss: 0.6348 - acc: 0.7796 - val_loss: 0.6314 - val_acc: 0.7883\n",
      "Epoch 11/100\n",
      "195/195 [==============================] - 12s - loss: 0.5919 - acc: 0.7954 - val_loss: 0.5809 - val_acc: 0.7991\n",
      "Epoch 12/100\n",
      "195/195 [==============================] - 12s - loss: 0.5516 - acc: 0.8071 - val_loss: 0.5834 - val_acc: 0.8020\n",
      "Epoch 13/100\n",
      "195/195 [==============================] - 12s - loss: 0.5136 - acc: 0.8217 - val_loss: 0.5199 - val_acc: 0.8239\n",
      "Epoch 14/100\n",
      "195/195 [==============================] - 12s - loss: 0.4788 - acc: 0.8337 - val_loss: 0.5326 - val_acc: 0.8200\n",
      "Epoch 15/100\n",
      "195/195 [==============================] - 11s - loss: 0.4512 - acc: 0.8440 - val_loss: 0.4754 - val_acc: 0.8350\n",
      "Epoch 16/100\n",
      "195/195 [==============================] - 12s - loss: 0.4189 - acc: 0.8564 - val_loss: 0.5061 - val_acc: 0.8288\n",
      "Epoch 17/100\n",
      "195/195 [==============================] - 12s - loss: 0.3997 - acc: 0.8617 - val_loss: 0.5259 - val_acc: 0.8161\n",
      "Epoch 18/100\n",
      "195/195 [==============================] - 11s - loss: 0.3730 - acc: 0.8707 - val_loss: 0.4876 - val_acc: 0.8343\n",
      "Epoch 19/100\n",
      "195/195 [==============================] - 12s - loss: 0.3570 - acc: 0.8749 - val_loss: 0.4720 - val_acc: 0.8417\n",
      "Epoch 20/100\n",
      "195/195 [==============================] - 12s - loss: 0.3335 - acc: 0.8847 - val_loss: 0.4543 - val_acc: 0.8486\n",
      "Epoch 21/100\n",
      "195/195 [==============================] - 12s - loss: 0.3060 - acc: 0.8928 - val_loss: 0.4818 - val_acc: 0.8457\n",
      "Epoch 22/100\n",
      "195/195 [==============================] - 12s - loss: 0.2939 - acc: 0.8988 - val_loss: 0.4616 - val_acc: 0.8494\n",
      "Epoch 23/100\n",
      "195/195 [==============================] - 12s - loss: 0.2746 - acc: 0.9053 - val_loss: 0.4740 - val_acc: 0.8470\n",
      "Epoch 24/100\n",
      "195/195 [==============================] - 12s - loss: 0.2604 - acc: 0.9101 - val_loss: 0.4633 - val_acc: 0.8535\n",
      "Epoch 25/100\n",
      "195/195 [==============================] - 12s - loss: 0.2446 - acc: 0.9131 - val_loss: 0.4956 - val_acc: 0.8424\n",
      "Epoch 26/100\n",
      "195/195 [==============================] - 11s - loss: 0.2323 - acc: 0.9182 - val_loss: 0.4859 - val_acc: 0.8480\n",
      "Epoch 27/100\n",
      "195/195 [==============================] - 11s - loss: 0.2174 - acc: 0.9248 - val_loss: 0.4738 - val_acc: 0.8569\n",
      "Epoch 28/100\n",
      "195/195 [==============================] - 11s - loss: 0.2032 - acc: 0.9295 - val_loss: 0.4466 - val_acc: 0.8634\n",
      "Epoch 29/100\n",
      "195/195 [==============================] - 11s - loss: 0.1954 - acc: 0.9329 - val_loss: 0.4453 - val_acc: 0.8636\n",
      "Epoch 30/100\n",
      "195/195 [==============================] - 12s - loss: 0.1841 - acc: 0.9360 - val_loss: 0.4772 - val_acc: 0.8637\n",
      "Epoch 31/100\n",
      "195/195 [==============================] - 12s - loss: 0.1771 - acc: 0.9382 - val_loss: 0.4867 - val_acc: 0.8568\n",
      "Epoch 32/100\n",
      "195/195 [==============================] - 12s - loss: 0.1658 - acc: 0.9415 - val_loss: 0.4822 - val_acc: 0.8592\n",
      "Epoch 33/100\n",
      "195/195 [==============================] - 12s - loss: 0.1539 - acc: 0.9463 - val_loss: 0.4756 - val_acc: 0.8618\n",
      "Epoch 34/100\n",
      "195/195 [==============================] - 12s - loss: 0.1480 - acc: 0.9477 - val_loss: 0.4795 - val_acc: 0.8701\n",
      "Epoch 35/100\n",
      "194/195 [============================>.] - ETA: 0s - loss: 0.1410 - acc: 0.9506"
     ]
    }
   ],
   "source": [
    "aug_gen = ImageDataGenerator(\n",
    "    featurewise_center = False,  # set input mean to 0 over the dataset\n",
    "    samplewise_center = False,  # set each sample mean to 0\n",
    "    featurewise_std_normalization = False,  # divide inputs by std of the dataset\n",
    "    samplewise_std_normalization = False,  # divide each input by its std\n",
    "    zca_whitening = False,  # apply ZCA whitening\n",
    "    rotation_range = 0,  # randomly rotate images in the range (degrees, 0 to 180)\n",
    "    width_shift_range = 0.1,  # randomly shift images horizontally (fraction of total width)\n",
    "    height_shift_range = 0.1,  # randomly shift images vertically (fraction of total height)\n",
    "    horizontal_flip = True,  # randomly flip images\n",
    "    vertical_flip = False,  # randomly flip images\n",
    ")\n",
    "\n",
    "aug_gen.fit(X_train)\n",
    "gen = aug_gen.flow(X_train, y_train, batch_size=batch_size)\n",
    "h = model1.fit_generator(generator=gen, steps_per_epoch=50000//batch_size, epochs=nb_epoch, validation_data=(X_test, y_test))\n",
    "model1.save('CIFAR10_model_dual_GPU_2.h5')"
   ]
  }
 ],
 "metadata": {
  "kernelspec": {
   "display_name": "Python 3",
   "language": "python",
   "name": "python3"
  },
  "language_info": {
   "codemirror_mode": {
    "name": "ipython",
    "version": 3
   },
   "file_extension": ".py",
   "mimetype": "text/x-python",
   "name": "python",
   "nbconvert_exporter": "python",
   "pygments_lexer": "ipython3",
   "version": "3.5.3"
  }
 },
 "nbformat": 4,
 "nbformat_minor": 2
}
