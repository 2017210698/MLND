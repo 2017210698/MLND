{
 "cells": [
  {
   "cell_type": "markdown",
   "metadata": {},
   "source": [
    "# Dog VS Cat - Kaggle Competition\n",
    "\n",
    "- 进入Top20 要求 Loss < 0.04183\n",
    "- 进入Top10 要求 Loss < 0.03807"
   ]
  },
  {
   "cell_type": "code",
   "execution_count": 1,
   "metadata": {
    "collapsed": false
   },
   "outputs": [
    {
     "name": "stderr",
     "output_type": "stream",
     "text": [
      "Using TensorFlow backend.\n"
     ]
    }
   ],
   "source": [
    "import os\n",
    "import sys\n",
    "import cv2\n",
    "import h5py\n",
    "import tensorflow as tf\n",
    "import numpy as np\n",
    "import pandas as pd\n",
    "import matplotlib.pyplot as plt\n",
    "from time import time\n",
    "from datetime import datetime\n",
    "from tqdm import tqdm\n",
    "from utils import get_params_count\n",
    "\n",
    "from sklearn.model_selection import train_test_split\n",
    "from sklearn.metrics import classification_report\n",
    "\n",
    "from keras.applications import inception_v3, xception, resnet50, vgg16, vgg19\n",
    "from keras.applications import InceptionV3, Xception, ResNet50, VGG16, VGG19\n",
    "from keras.layers import Input, Dense, Dropout, Activation, Flatten, Lambda\n",
    "from keras.callbacks import EarlyStopping, ModelCheckpoint, TensorBoard\n",
    "from keras.models import Model\n",
    "from keras.optimizers import SGD"
   ]
  },
  {
   "cell_type": "code",
   "execution_count": 2,
   "metadata": {
    "collapsed": false
   },
   "outputs": [
    {
     "name": "stderr",
     "output_type": "stream",
     "text": [
      "100%|█████████████████████████████████████████████████████| 12500/12500 [00:26<00:00, 472.10it/s]\n",
      "100%|█████████████████████████████████████████████████████| 12500/12500 [00:27<00:00, 462.73it/s]\n",
      "100%|█████████████████████████████████████████████████████| 12500/12500 [00:26<00:00, 467.91it/s]\n"
     ]
    },
    {
     "name": "stdout",
     "output_type": "stream",
     "text": [
      "Training Data Size = 6.24 GB\n",
      "Testing Data Size = 3.12 GB\n"
     ]
    }
   ],
   "source": [
    "height = 299\n",
    "labels = np.array([0] * 12500 + [1] * 12500)\n",
    "train = np.zeros((25000, height, height, 3), dtype=np.uint8)\n",
    "test = np.zeros((12500, height, height, 3), dtype=np.uint8)\n",
    "\n",
    "for i in tqdm(range(12500)):\n",
    "    img = cv2.imread('./train/cat/%s.jpg' % str(i))\n",
    "    img = cv2.resize(img, (height, height))\n",
    "    train[i] = img[:, :, ::-1]\n",
    "    \n",
    "for i in tqdm(range(12500)):\n",
    "    img = cv2.imread('./train/dog/%s.jpg' % str(i))\n",
    "    img = cv2.resize(img, (height, height))\n",
    "    train[i + 12500] = img[:, :, ::-1]\n",
    "\n",
    "for i in tqdm(range(12500)):\n",
    "    img = cv2.imread('./test/%s.jpg' % str(i + 1))\n",
    "    img = cv2.resize(img, (height, height))\n",
    "    test[i] = img[:, :, ::-1]\n",
    "    \n",
    "print('Training Data Size = %.2f GB' % (sys.getsizeof(train)/1024**3))\n",
    "print('Testing Data Size = %.2f GB' % (sys.getsizeof(test)/1024**3))"
   ]
  },
  {
   "cell_type": "code",
   "execution_count": 6,
   "metadata": {
    "collapsed": true
   },
   "outputs": [],
   "source": [
    "def export_gap(MODEL, preprocess=None, batch_size=128):\n",
    "    x = Input(shape=(height, height, 3))\n",
    "    x = Lambda(preprocess)(x)\n",
    "    model = MODEL(include_top=False, input_tensor=x, weights='imagenet', pooling='avg')\n",
    "    train_gap = model.predict(train, batch_size=batch_size)\n",
    "    test_gap = model.predict(test, batch_size=batch_size)\n",
    "    with h5py.File(\"gap_%s.h5\" % MODEL.__name__, 'w') as f:\n",
    "        f.create_dataset('train', data=train_gap)\n",
    "        f.create_dataset('test', data=test_gap)"
   ]
  },
  {
   "cell_type": "code",
   "execution_count": 4,
   "metadata": {
    "collapsed": true
   },
   "outputs": [],
   "source": [
    "export_gap(InceptionV3, inception_v3.preprocess_input)"
   ]
  },
  {
   "cell_type": "code",
   "execution_count": 7,
   "metadata": {
    "collapsed": false
   },
   "outputs": [],
   "source": [
    "export_gap(Xception, xception.preprocess_input, 64)"
   ]
  },
  {
   "cell_type": "code",
   "execution_count": 8,
   "metadata": {
    "collapsed": true
   },
   "outputs": [],
   "source": [
    "train_temp = []\n",
    "test_temp = []\n",
    "for gapfile in ['gap_InceptionV3.h5', 'gap_Xception.h5']:\n",
    "    with h5py.File(gapfile, 'r') as f:\n",
    "        train_temp.append(np.array(f['train']))\n",
    "        test_temp.append(np.array(f['test']))\n",
    "train_gap = np.concatenate(train_temp, axis=1)\n",
    "test_gap = np.concatenate(test_temp, axis=1)"
   ]
  },
  {
   "cell_type": "code",
   "execution_count": 9,
   "metadata": {
    "collapsed": true
   },
   "outputs": [],
   "source": [
    "X_train, X_val, y_train, y_val = train_test_split(train_gap, labels, shuffle=True, test_size=0.2, random_state=42)"
   ]
  },
  {
   "cell_type": "code",
   "execution_count": 35,
   "metadata": {
    "collapsed": false
   },
   "outputs": [
    {
     "name": "stdout",
     "output_type": "stream",
     "text": [
      "Trainable: 4097, Non-Trainable: 0\n"
     ]
    }
   ],
   "source": [
    "x = Input(shape=(X_train.shape[1],))\n",
    "y = Dropout(0.2)(x)\n",
    "y = Dense(1, activation='sigmoid', kernel_initializer='he_normal', name='classifier')(y)\n",
    "model_gap = Model(inputs=x, outputs=y, name='GAP')\n",
    "model_gap.compile(loss='binary_crossentropy', optimizer='adadelta', metrics=['accuracy'])\n",
    "print('Trainable: %d, Non-Trainable: %d' % get_params_count(model_gap))"
   ]
  },
  {
   "cell_type": "code",
   "execution_count": 36,
   "metadata": {
    "collapsed": false
   },
   "outputs": [
    {
     "name": "stdout",
     "output_type": "stream",
     "text": [
      "Epoch 1/5\n",
      "25000/25000 [==============================] - 4s - loss: 0.0446 - acc: 0.9906     \n",
      "Epoch 2/5\n",
      "25000/25000 [==============================] - 4s - loss: 0.0174 - acc: 0.9945     \n",
      "Epoch 3/5\n",
      "25000/25000 [==============================] - 4s - loss: 0.0151 - acc: 0.9952     \n",
      "Epoch 4/5\n",
      "25000/25000 [==============================] - 4s - loss: 0.0144 - acc: 0.9953     \n",
      "Epoch 5/5\n",
      "25000/25000 [==============================] - 4s - loss: 0.0134 - acc: 0.9958     \n"
     ]
    },
    {
     "data": {
      "text/plain": [
       "<keras.callbacks.History at 0x2571be9e9b0>"
      ]
     },
     "execution_count": 36,
     "metadata": {},
     "output_type": "execute_result"
    }
   ],
   "source": [
    "# Prepare Callbacks for Model Checkpoint, Early Stopping and Tensorboard.\n",
    "log_name = '/DogVSCat-EP{epoch:02d}-LOSS{val_loss:.4f}.h5'\n",
    "log_dir = datetime.now().strftime('gap_model_%Y%m%d_%H%M')\n",
    "if not os.path.exists(log_dir):\n",
    "    os.mkdir(log_dir)\n",
    "\n",
    "es = EarlyStopping(monitor='val_loss', patience=20)\n",
    "mc = ModelCheckpoint(log_dir + log_name, monitor='val_loss', save_best_only=True)\n",
    "tb = TensorBoard(log_dir=log_dir)\n",
    "\n",
    "model_gap.fit(x=X_train, y=y_train, batch_size=16, epochs=5, validation_data=(X_val, y_val), callbacks=[es, mc, tb])\n",
    "\n",
    "# Use all training data.\n",
    "# model_gap.fit(x=train_gap, y=labels, batch_size=16, shuffle=True, epochs=5)"
   ]
  },
  {
   "cell_type": "code",
   "execution_count": 37,
   "metadata": {
    "collapsed": true
   },
   "outputs": [],
   "source": [
    "y_pred = model_gap.predict(test_gap)\n",
    "y_pred = y_pred.clip(min=0.005, max=0.995)"
   ]
  },
  {
   "cell_type": "code",
   "execution_count": 38,
   "metadata": {
    "collapsed": true
   },
   "outputs": [],
   "source": [
    "with open('test.csv', 'w') as f:\n",
    "    f.writelines('id,label\\n')\n",
    "    for i in range(12500):\n",
    "        f.writelines(str(i+1) + ',' + str(y_pred[i][0]) + '\\n')"
   ]
  }
 ],
 "metadata": {
  "kernelspec": {
   "display_name": "Python 3",
   "language": "python",
   "name": "python3"
  },
  "language_info": {
   "codemirror_mode": {
    "name": "ipython",
    "version": 3
   },
   "file_extension": ".py",
   "mimetype": "text/x-python",
   "name": "python",
   "nbconvert_exporter": "python",
   "pygments_lexer": "ipython3",
   "version": "3.5.4"
  }
 },
 "nbformat": 4,
 "nbformat_minor": 2
}
