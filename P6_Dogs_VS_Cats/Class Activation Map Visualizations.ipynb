{
 "cells": [
  {
   "cell_type": "markdown",
   "metadata": {},
   "source": [
    "## 可视化类激活图随模型训练而动态变化的过程\n",
    "\n",
    "- 自定义能够存储输出层历史权重矩阵的回调函数"
   ]
  },
  {
   "cell_type": "code",
   "execution_count": 1,
   "metadata": {
    "collapsed": false
   },
   "outputs": [
    {
     "name": "stderr",
     "output_type": "stream",
     "text": [
      "Using TensorFlow backend.\n"
     ]
    }
   ],
   "source": [
    "from keras.preprocessing.image import ImageDataGenerator\n",
    "from keras.models import load_model, Model\n",
    "from keras.layers import Input, Dense, Dropout, Activation, Flatten\n",
    "from keras.layers import Convolution2D, MaxPooling2D, GlobalAveragePooling2D\n",
    "from keras.layers.normalization import BatchNormalization\n",
    "from keras.applications import ResNet50, VGG16, InceptionV3\n",
    "from keras.applications.vgg16 import preprocess_input, decode_predictions\n",
    "# from utils import make_parallel\n",
    "import os\n",
    "import sys\n",
    "import cv2\n",
    "import numpy as np\n",
    "import pandas as pd\n",
    "import matplotlib.pyplot as plt\n",
    "from time import time\n",
    "from keras.utils import to_categorical\n",
    "from tqdm import tqdm\n",
    "from sklearn.model_selection import train_test_split\n",
    "%matplotlib inline"
   ]
  },
  {
   "cell_type": "markdown",
   "metadata": {},
   "source": [
    "## 1. 载入训练集\n",
    "\n",
    "- 从硬盘读取25000张猫狗图片，存入data\n",
    "- 定义训练集配套的图片类型标签，存入label\n",
    "- 将训练集进一步划分为训练集和验证集"
   ]
  },
  {
   "cell_type": "code",
   "execution_count": 2,
   "metadata": {
    "collapsed": false
   },
   "outputs": [
    {
     "name": "stderr",
     "output_type": "stream",
     "text": [
      "100%|███████████████████████████████████████████████████| 12500/12500 [00:28<00:00, 437.40it/s]\n",
      "100%|███████████████████████████████████████████████████| 12500/12500 [00:28<00:00, 436.55it/s]\n"
     ]
    },
    {
     "name": "stdout",
     "output_type": "stream",
     "text": [
      "Training Data Size = 3.50 GB\n"
     ]
    }
   ],
   "source": [
    "path = os.getcwd() + '\\\\train\\\\'\n",
    "label = np.array([0] * 12500 + [1] * 12500)\n",
    "data = np.zeros((25000, 224, 224, 3), dtype=np.uint8)\n",
    "\n",
    "for i in tqdm(range(12500)):\n",
    "    img = cv2.imread(path + 'cat\\\\' + str(i) + '.jpg')\n",
    "    img = img[:, :, ::-1]\n",
    "    img = cv2.resize(img, (224, 224))\n",
    "    data[i] = img\n",
    "    \n",
    "for i in tqdm(range(12500)):\n",
    "    img = cv2.imread(path + 'dog\\\\' + str(i) + '.jpg')\n",
    "    img = img[:, :, ::-1]\n",
    "    img = cv2.resize(img, (224, 224))\n",
    "    data[i+12500] = img\n",
    "    \n",
    "print('Training Data Size = %.2f GB' % (sys.getsizeof(data)/1024**3))"
   ]
  },
  {
   "cell_type": "code",
   "execution_count": 53,
   "metadata": {
    "collapsed": true
   },
   "outputs": [],
   "source": [
    "X_train, X_val, y_train, y_val = train_test_split(data, label, shuffle=True, test_size=0.2, random_state=42)"
   ]
  },
  {
   "cell_type": "markdown",
   "metadata": {},
   "source": [
    "## 2. 创建模型\n",
    "\n",
    "- 基模型直接使用只含卷积层部分的预训练 `VGG16` 模型\n",
    "- 在基模型的基础上追加GAP、Dropout、Dense，即分类器部分\n",
    "- 由于要解决的是二分类问题，因此使用 `binary_crossentropy` 作为损失函数，y也不用 one-hot 编码了\n",
    "- 采用 Transfer Learning 策略：锁定 base_model 所有层的参数，仅允许训练分类器部分的参数（只有512+1=513个参数）\n"
   ]
  },
  {
   "cell_type": "code",
   "execution_count": 4,
   "metadata": {
    "collapsed": false
   },
   "outputs": [],
   "source": [
    "base_model = VGG16(include_top=False, weights='imagenet')\n",
    "for layers in base_model.layers:\n",
    "    layers.trainable = False\n",
    "y = GlobalAveragePooling2D()(base_model.output)\n",
    "y = Dropout(0.25)(y)\n",
    "y = Dense(1, activation='sigmoid')(y)\n",
    "model = Model(inputs=base_model.input, outputs=y)\n",
    "model.compile(optimizer='adadelta', loss='binary_crossentropy', metrics=['accuracy'])"
   ]
  },
  {
   "cell_type": "code",
   "execution_count": 52,
   "metadata": {
    "collapsed": false
   },
   "outputs": [
    {
     "name": "stdout",
     "output_type": "stream",
     "text": [
      "Trainable Parameters:  513\n"
     ]
    }
   ],
   "source": [
    "from keras import backend as K\n",
    "\n",
    "def get_params_count(model):\n",
    "    trainable = int(np.sum([K.count_params(p) for p in set(model.trainable_weights)]))\n",
    "    non_trainable = int(np.sum([K.count_params(p) for p in set(model.non_trainable_weights)]))\n",
    "    return trainable, non_trainable\n",
    "\n",
    "print('Trainable Parameters: ', get_params_count(model)[0])"
   ]
  },
  {
   "cell_type": "markdown",
   "metadata": {},
   "source": [
    "## 3. 训练模型\n",
    "\n",
    "- 想要看到模型”成长的过程“，就需要了解模型在每个Batch后权重更新的状态。具体在这里，由于由于模型的卷积层参数已经冻结，并不会对模型的成长有任何贡献，因此实际上模型的进化过程完全由输出层的这513个权重参数决定。\n",
    "\n",
    "- 具体实现上，我们需要定义一个Lambda Callback，用来备份在每个batch结束时最后一层的权重数值。\n",
    "\n",
    "- 模型仅经过一代训练就可以达到 94.5% 的验证集准确率，我们应该能在稍后的处理之后欣赏到模型从50%上升到94.5%的完整心路历程。"
   ]
  },
  {
   "cell_type": "code",
   "execution_count": 3,
   "metadata": {
    "collapsed": true
   },
   "outputs": [],
   "source": [
    "from keras.callbacks import LambdaCallback\n",
    "weights_history = []\n",
    "get_weights_cb = LambdaCallback(on_batch_end=lambda batch, \n",
    "                                logs: weights_history.append(model.layers[-1].get_weights()[0]))"
   ]
  },
  {
   "cell_type": "code",
   "execution_count": 5,
   "metadata": {
    "collapsed": false
   },
   "outputs": [
    {
     "name": "stdout",
     "output_type": "stream",
     "text": [
      "Train on 20000 samples, validate on 5000 samples\n",
      "Epoch 1/1\n",
      "20000/20000 [==============================] - 230s - loss: 0.6573 - acc: 0.8566 - val_loss: 0.1929 - val_acc: 0.9442\n"
     ]
    }
   ],
   "source": [
    "history = model.fit(x=X_train, y=y_train, \n",
    "                    batch_size=16, \n",
    "                    epochs=1, \n",
    "                    validation_data=(X_val, y_val), \n",
    "                    callbacks=[get_weights_cb])"
   ]
  },
  {
   "cell_type": "code",
   "execution_count": 6,
   "metadata": {
    "collapsed": false
   },
   "outputs": [],
   "source": [
    "import pickle\n",
    "with open('weights_history.p', 'wb') as f:\n",
    "    pickle.dump(weights_history, f)"
   ]
  },
  {
   "cell_type": "code",
   "execution_count": 7,
   "metadata": {
    "collapsed": true
   },
   "outputs": [],
   "source": [
    "with open('weights_history.p', 'rb') as f:\n",
    "    lalala = pickle.load(f)"
   ]
  },
  {
   "cell_type": "markdown",
   "metadata": {},
   "source": [
    "## 4. 权重处理\n",
    "\n",
    "$$\n",
    "\\begin{matrix}\n",
    "\\mathbf{Input} & \\longrightarrow & \\mathbf{CONV ~ Output} & \\longrightarrow & \\mathbf{GAP ~ Output} & \\stackrel{\\color{red}{W^{(512)}}}{\\longrightarrow} & \\mathbf{Dense} ~ \\mathrm{(Sigmoid)} ~ \\mathbf{Output}\\\\[2ex]\n",
    "[224, ~224, ~3] && [7, ~7, ~512] && [~512~] && [~1~]\n",
    "\\end{matrix}\n",
    "$$\n",
    "\n",
    "- 对于同一张图片，由于基模型恒定不变，因此 $\\mathbf{CONV ~ Output}$（特征图集 Feature Maps）固定不变， 也就是下面的 out_base\n",
    "- 从 $\\mathbf{CONV ~ Output}$ 到最后预测的概率值还要先经过全局平均池化、乘以权重、经过Sigmoid这三步才能得到，直接用下面的函数手动实现了下"
   ]
  },
  {
   "cell_type": "code",
   "execution_count": 60,
   "metadata": {
    "collapsed": true
   },
   "outputs": [],
   "source": [
    "target = data[1][:, :, ::-1]"
   ]
  },
  {
   "cell_type": "code",
   "execution_count": 61,
   "metadata": {
    "collapsed": false
   },
   "outputs": [
    {
     "name": "stdout",
     "output_type": "stream",
     "text": [
      "(7, 7, 512)\n"
     ]
    }
   ],
   "source": [
    "out_base = base_model.predict(np.expand_dims(target, axis=0))\n",
    "out_base = out_base[0]\n",
    "print(out_base.shape)"
   ]
  },
  {
   "cell_type": "code",
   "execution_count": 62,
   "metadata": {
    "collapsed": false
   },
   "outputs": [
    {
     "data": {
      "text/plain": [
       "0.37235825669154349"
      ]
     },
     "execution_count": 62,
     "metadata": {},
     "output_type": "execute_result"
    }
   ],
   "source": [
    "# 根据卷积层输出特征图集和模型某一参数状态计算预测概率（为了简单省略了bias计算）\n",
    "def predict_on_weights(out_base, weights):\n",
    "    gap = np.average(out_base, axis=(0, 1))\n",
    "    logit = np.dot(gap, np.squeeze(weights))\n",
    "    return 1 / (1 +  np.e ** (-logit))\n",
    "\n",
    "predict_on_weights(out_base, weights_history[42])"
   ]
  },
  {
   "cell_type": "markdown",
   "metadata": {},
   "source": [
    "## 5. 类激活图计算\n",
    "\n",
    "- 类激活图其实就是将卷积层输出的特征图按输出层分类器的权重进行加权合成的一副图样\n",
    "- 基本流程\n",
    "    - **归一化**：由于ColorMap的工作原理是将任意矩阵的取值范围映射到0~255范围内，因此为了之后好挑选颜色，需要归一化一下。\n",
    "    - 手动放大至[0,255]\n",
    "    - 元素格式化\n",
    "    - **设定门限**：由于只希望将模型认为比较重要的区域标记出来，因此应该选择一个门限值，将该门限值之下的像素位置至0（此时该像素透明）\n",
    "    - 在图像本体添加文字标注（方便之后导出为视频）"
   ]
  },
  {
   "cell_type": "code",
   "execution_count": 69,
   "metadata": {
    "collapsed": false
   },
   "outputs": [
    {
     "data": {
      "image/png": "[encoded data removed]",
      "text/plain": [
       "<matplotlib.figure.Figure at 0x1f906a26748>"
      ]
     },
     "metadata": {},
     "output_type": "display_data"
    }
   ],
   "source": [
    "import seaborn as sns\n",
    "plt.figure(figsize=(15, 0.5))\n",
    "band = np.array([list(np.arange(0, 255, 10))] * 1)\n",
    "sns.heatmap(band, annot=True, fmt=\"d\", cmap='jet', cbar=False)\n",
    "plt.show()"
   ]
  },
  {
   "cell_type": "code",
   "execution_count": 64,
   "metadata": {
    "collapsed": true
   },
   "outputs": [],
   "source": [
    "def getCAM(weights, display=False):\n",
    "    \n",
    "    predict = predict_on_weights(out_base, weights)\n",
    "    \n",
    "    # Weighted Feature Map\n",
    "    cam = (predict - 0.5) * np.matmul(out_base, weights)\n",
    "    # Normalize\n",
    "    cam = (cam - cam.min()) / (cam.max() - cam.min())\n",
    "    # Resize as image size\n",
    "    cam_resize = cv2.resize(cam, (224, 224))\n",
    "    # Format as CV_8UC1 (as applyColorMap required)\n",
    "    cam_resize = 255 * cam_resize\n",
    "    cam_resize = cam_resize.astype(np.uint8)\n",
    "    # Get Heatmap\n",
    "    heatmap = cv2.applyColorMap(cam_resize, cv2.COLORMAP_JET)\n",
    "    # Zero out\n",
    "    heatmap[np.where(cam_resize <= 100)] = 0\n",
    "    \n",
    "    out = cv2.addWeighted(src1=target, alpha=0.8, src2=heatmap, beta=0.4, gamma=0)\n",
    "    out = cv2.resize(out, dsize=(500, 500))\n",
    "    \n",
    "    if predict < 0.5:\n",
    "        text = 'cat %.2f%%' % (100 - predict * 100)\n",
    "    else:\n",
    "        text = 'dog %.2f%%' % (predict * 100)\n",
    "        \n",
    "    cv2.putText(out, text, (290, 50), fontFace=cv2.FONT_HERSHEY_SIMPLEX, fontScale=0.9, \n",
    "                  color=(123,222,238), thickness=2, lineType=cv2.LINE_AA)\n",
    "    if display:\n",
    "        cv2.imshow('img', out)\n",
    "        cv2.waitKey(0)\n",
    "        cv2.destroyAllWindows()\n",
    "    return out"
   ]
  },
  {
   "cell_type": "code",
   "execution_count": 65,
   "metadata": {
    "collapsed": false
   },
   "outputs": [],
   "source": [
    "getCAM(weights_history[1000], display=True);"
   ]
  },
  {
   "cell_type": "markdown",
   "metadata": {},
   "source": [
    "## 6. 导出视频\n",
    "\n",
    "- 视频就是一个播放的很快的图片幻灯片\n",
    "- 使用VideoWriter生成视频，由于iOS使用的是H.264，这里用MP4格式。"
   ]
  },
  {
   "cell_type": "code",
   "execution_count": 66,
   "metadata": {
    "collapsed": false
   },
   "outputs": [],
   "source": [
    "fourcc = cv2.VideoWriter_fourcc(*'MP4V')\n",
    "out = cv2.VideoWriter('outputx.mp4',fourcc, 20.0, (500, 500))\n",
    "\n",
    "for i in range(1250):\n",
    "    img = getCAM(weights_history[i])\n",
    "    out.write(img)\n",
    "    cv2.imshow('frame', img)\n",
    "    if cv2.waitKey(1) & 0xFF == ord('q'):\n",
    "        break\n",
    "\n",
    "out.release()\n",
    "cv2.destroyAllWindows()"
   ]
  }
 ],
 "metadata": {
  "kernelspec": {
   "display_name": "Python 3",
   "language": "python",
   "name": "python3"
  },
  "language_info": {
   "codemirror_mode": {
    "name": "ipython",
    "version": 3
   },
   "file_extension": ".py",
   "mimetype": "text/x-python",
   "name": "python",
   "nbconvert_exporter": "python",
   "pygments_lexer": "ipython3",
   "version": "3.5.3"
  }
 },
 "nbformat": 4,
 "nbformat_minor": 2
}
